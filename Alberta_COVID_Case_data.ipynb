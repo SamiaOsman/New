{
  "cells": [
    {
      "cell_type": "markdown",
      "metadata": {
        "id": "view-in-github",
        "colab_type": "text"
      },
      "source": [
        "<a href=\"https://colab.research.google.com/github/SamiaOsman/New/blob/main/Alberta_COVID_Case_data.ipynb\" target=\"_parent\"><img src=\"https://colab.research.google.com/assets/colab-badge.svg\" alt=\"Open In Colab\"/></a>"
      ]
    },
    {
      "cell_type": "markdown",
      "id": "351ef039-2e01-41a1-905c-14051920e5f6",
      "metadata": {
        "id": "351ef039-2e01-41a1-905c-14051920e5f6"
      },
      "source": [
        "# <font style = \"color:rgb(20, 53, 103)\" > **How to use `Plotly` with `ipywidgets` to Visualize data** </font>\n",
        "\n",
        "The purpose of this notebook is to teach how `Plotly` and `ipywidgets` can be used together in creating interactive data visualizations.\n",
        "\n",
        "## <font style = \"color:rgb(20, 53, 103)\" > **Background** </font>\n",
        "\n",
        "The Government of Alberta publishes information, in the forms of **CSV files**, related to COVID-19 in the Province. They have been keeping these records since **March 6, 2020**.\n",
        "\n",
        "These **CSV** files can be downloaded from this Government website: https://www.alberta.ca/stats/covid-19-alberta-statistics.htm#data-export\n",
        "\n",
        "On this site, there are 4 `CSV` files. They are:\n",
        "\n",
        "> `Case data` **(This Notebook)**\n",
        "\n",
        "> `Summary data starting March 6, 2020`\n",
        "\n",
        "> `Geospatial data` \n",
        "\n",
        "> `Vaccine data` \n",
        "\n",
        "This notebook will describe and visualize the `Case data` **CSV file**."
      ]
    },
    {
      "cell_type": "markdown",
      "id": "cf961b6a-dc4e-4c98-96ac-5d295c2eec97",
      "metadata": {
        "id": "cf961b6a-dc4e-4c98-96ac-5d295c2eec97"
      },
      "source": [
        "<div class=\"admonition warning alert alert-danger\">\n",
        "<p class=\"first admonition-title\" style=\"font-weight: bold;\">Warning</p>\n",
        "<p class=\"last\"> This notebook is meant to show you how to use Python, Jupyter Lab, Plotly, and ipywidgets to tell a story. This notebook is not meant to set policy, or to convince anyone what to believe. I respect that everyone will see a different story in the data, therefore the focus is on how to create the visualizations, not the interpretation of it. Any interpreation will be entirely your own, respecting that everyone will see data differently; thats why it's called \"Story Telling using Data\". \n",
        "<p class=\"last\">This notebook is for educational purposes only. It's been put together for the following reasons:\n",
        "    \n",
        "<p class=\"last\"> 1. Teach how Plotly and ipywidgets can be used together in creating rich and interactive visualizations. \n",
        "<p class=\"last\"> 2. Show how to automate the process of downloading a data set, and inspecting it to prepare for data visualization\n",
        "<p class=\"last\"> 3. Create code snipets that can be used by anyone in visualizing data\n",
        "<p class=\"last\"> 4. Show off my python and data science skills to both prospective clients, and any future students that want to be taught \"how to\""
      ]
    },
    {
      "cell_type": "markdown",
      "id": "98207cbe-bdee-4af4-91ed-99330da0b432",
      "metadata": {
        "id": "98207cbe-bdee-4af4-91ed-99330da0b432"
      },
      "source": [
        "<div class=\"admonition note alert alert-info\">\n",
        "<p class=\"first admonition-title\" style=\"font-weight: bold;\">Why the Alberta COVID-19 dataset?</p>\n",
        "    \n",
        "<p class=\"last\">One of the biggest challenges to learning python, and data analytics, is in the understanding and interpretation of the data. It's hard to understand what a visualization is saying to you, if you don't first understand the subject. COVID-19 is a universal human experience, we're all connected by what's happening, and our understanding of things.\n",
        "    \n",
        "<p class=\"last\">Because COVID-19 is a shared experience; each of us has an intrinsic domain knowledge about the subject and data. I don't need to tell you what an Active, Recovered, or Died status means when it comes to tracking a COVID case. Nobody needs an explanation of what is an Age Groups, Gender, or Alberta Health Services Zone. Even if you're not from Alberta, it's fairly intuitive. \n",
        "    \n",
        "<p class=\"last\">Since everybody understands the meaning of this information; unlike all the other examples out there, you can concentrate your efforts on playing with the code, interacting with the information in order to discover any insights from the data.\n",
        "    \n",
        "<p class=\"last\">Hopefully the examples in this book will encourage you to try something on your own.\n",
        "\n",
        "<p class=\"last\">Enjoy! </p>\n",
        "</div>"
      ]
    },
    {
      "cell_type": "markdown",
      "id": "f9dc4b80-c0b6-4ebd-becf-7b2b35206be4",
      "metadata": {
        "id": "f9dc4b80-c0b6-4ebd-becf-7b2b35206be4"
      },
      "source": [
        "## <font style = \"color:rgb(20, 53, 103)\" > **Downloading the dataset** </font>\n",
        "\n",
        "The data sets can be downloaded manually, or by going to this [website](https://www.alberta.ca/stats/covid-19-alberta-statistics.htm#data-export) and clicking on each download link manually, or by clicking on the links below:\n",
        "\n",
        "> **Case data:** https://www.alberta.ca/data/stats/covid-19-alberta-statistics-data.csv\n",
        "\n",
        "### <font style = \"color:rgb(20, 53, 103)\" > **Downloading a dataset using wget** </font>"
      ]
    },
    {
      "cell_type": "markdown",
      "id": "df2cb23a-d0be-4717-9f1e-453d593a527e",
      "metadata": {
        "id": "df2cb23a-d0be-4717-9f1e-453d593a527e"
      },
      "source": [
        "<div class=\"admonition caution alert alert-warning\">\n",
        "<p class=\"first admonition-title\" style=\"font-weight: bold;\">Warning!</p>\n",
        "<p class=\"last\">`wget` is a Linux command and does not work on Windows (try the windows for linux package)?.</p>\n",
        "</div>"
      ]
    },
    {
      "cell_type": "markdown",
      "id": "769f041b-78f5-4305-8a48-b2ce299834f6",
      "metadata": {
        "id": "769f041b-78f5-4305-8a48-b2ce299834f6"
      },
      "source": [
        "The scripts below use `wget` to download the `CSV` file. \n",
        "\n",
        "**Note** The Government of Alberta uses a static naming convention for these files. You will have to `save as` if you want to keep a specific snapshot of the dataset.\n",
        "\n",
        "The following script will:\n",
        "\n",
        "1. Download the `Case data` **csv** file from the Government of Alberta website on [COVID-19 Alberta statistics](https://www.alberta.ca/stats/covid-19-alberta-statistics.htm#data-export).\n",
        "\n",
        "2. Save this file into the `dataset` directory. This is done using the `-P` Option and specifing the path.\n",
        "\n",
        "3. Overwrite any existing file in this directory, with the new data set. This is done using the `-c` option, which overwrites any previous file with the same name.\n",
        "\n",
        "Using these wget options ensures that you're always working with the most current version of the dataset published by the Government.\n",
        "\n",
        "The instructions on how to customize wget comes from this stackoverflow discussion: https://stackoverflow.com/questions/30418188/how-to-force-wget-to-overwrite-an-existing-file-ignoring-timestamp"
      ]
    },
    {
      "cell_type": "code",
      "execution_count": null,
      "id": "30430493-8204-4fc5-9ef5-def672a80051",
      "metadata": {
        "id": "30430493-8204-4fc5-9ef5-def672a80051",
        "outputId": "dfaa8f10-7581-4180-de7d-7b79c569867d"
      },
      "outputs": [
        {
          "name": "stdout",
          "output_type": "stream",
          "text": [
            "--2022-04-02 16:21:44--  https://www.alberta.ca/data/stats/covid-19-alberta-statistics-data.csv\n",
            "Resolving www.alberta.ca (www.alberta.ca)... 2606:4700:10::ac43:1698, 2606:4700:10::6816:2ba2, 2606:4700:10::6816:2aa2, ...\n",
            "Connecting to www.alberta.ca (www.alberta.ca)|2606:4700:10::ac43:1698|:443... connected.\n",
            "HTTP request sent, awaiting response... 416 Requested Range Not Satisfiable\n",
            "\n",
            "    The file is already fully retrieved; nothing to do.\n",
            "\n"
          ]
        }
      ],
      "source": [
        "# This script will download the most current copy of the dataset, and and save it to the ./dataset directory.\n",
        "# wget will overwrite any existing file in this directory with the new one\n",
        "# It will download and overwrite \n",
        "!wget https://www.alberta.ca/data/stats/covid-19-alberta-statistics-data.csv -P ./dataset/ -c"
      ]
    },
    {
      "cell_type": "markdown",
      "id": "d7586af3-5565-4904-bc7c-fe3ea4e67365",
      "metadata": {
        "id": "d7586af3-5565-4904-bc7c-fe3ea4e67365"
      },
      "source": [
        "## <font style = \"color:rgb(20, 53, 103)\" > **Python Import Libraries** </font>\n",
        "\n",
        "The following are the import libraries needed to run this notebook:"
      ]
    },
    {
      "cell_type": "code",
      "execution_count": null,
      "id": "fd6b1b31-387f-42ec-abe9-4d0cb6c71194",
      "metadata": {
        "id": "fd6b1b31-387f-42ec-abe9-4d0cb6c71194"
      },
      "outputs": [],
      "source": [
        "# The following libraries are required to run\n",
        "# the scripts found in this notebook\n",
        "\n",
        "# Numpy library for handling array objects\n",
        "import numpy as np\n",
        "\n",
        "# Pandas library for handling CSV\n",
        "# files\n",
        "import pandas as pd\n",
        "\n",
        "# Used to convert date formats\n",
        "import datetime\n",
        "\n",
        "# Used in displaying interactive widgets\n",
        "from IPython.display import display\n",
        "\n",
        "# Used in creating interactive visual\n",
        "import ipywidgets as widgets\n",
        "\n",
        "# Plotly libraries for creating graphs\n",
        "import plotly.express as px\n",
        "import plotly.figure_factory as ff\n",
        "import plotly.graph_objects as go"
      ]
    },
    {
      "cell_type": "markdown",
      "id": "c13a8187-56cd-4440-9219-eccd393c3d36",
      "metadata": {
        "id": "c13a8187-56cd-4440-9219-eccd393c3d36"
      },
      "source": [
        "## <font style = \"color:rgb(20, 53, 103)\" > **Data Understanding** </font>\n",
        "\n",
        "Data understanding is a 3-step process:\n",
        "\n",
        "1. **Data Mining** these steps involve data cleaning, data integration, data selection, and data transformation. The goal is to produce tabular data that can be analyzed and  \n",
        "\n",
        "2. **Data Description** involves inspecting and describing your data both in terms of feature terminology and meaning, as well as descriptive statistics of each feature  \n",
        "\n",
        "3. **Exploratory data analytics** involves looking for one (or more) of the 5 intersting patterns used by data science:\n",
        "\n",
        "> **Class / Concept Description: Characterization & Discrimmination**\n",
        "\n",
        "> **Classification / Regression**\n",
        "\n",
        "> **Cluster Analysis**\n",
        "\n",
        "> **Frequent Pattern Analysis**\n",
        "\n",
        "> **Outlier Detection**\n",
        "\n",
        "### <font style = \"color:rgb(20, 53, 103)\" > **Data Minning** </font>\n",
        "\n",
        "The first step in this process is to load your data into computer memory and inspect it. What you are looking for is:\n",
        "\n",
        "1. Did the data load correctly?\n",
        "2. Do the names of the columns look correct?\n",
        "3. Are there any missing values?\n",
        "4. Are the `dtypes` for each column as expected?\n",
        "\n",
        "#### <font style = \"color:rgb(20, 53, 103)\" > **Load the data** </font>"
      ]
    },
    {
      "cell_type": "code",
      "execution_count": null,
      "id": "3036dc4e-5905-4408-934c-c29a1a27a636",
      "metadata": {
        "id": "3036dc4e-5905-4408-934c-c29a1a27a636"
      },
      "outputs": [],
      "source": [
        "# The path to the csv file loaded \n",
        "cases_data_source_path = 'covid-19-alberta-statistics-data.csv'"
      ]
    },
    {
      "cell_type": "code",
      "execution_count": null,
      "id": "5bab0ff0-709e-4d23-8d29-ae8cc4f91f96",
      "metadata": {
        "id": "5bab0ff0-709e-4d23-8d29-ae8cc4f91f96",
        "outputId": "16f5237c-1c86-4395-8a52-899312ff36f5"
      },
      "outputs": [
        {
          "name": "stderr",
          "output_type": "stream",
          "text": [
            "/home/miizann123/.virtualenvs/SamiaVE/lib/python3.7/site-packages/IPython/core/interactiveshell.py:3444: DtypeWarning: Columns (0) have mixed types.Specify dtype option on import or set low_memory=False.\n",
            "  exec(code_obj, self.user_global_ns, self.user_ns)\n"
          ]
        },
        {
          "data": {
            "text/html": [
              "<div>\n",
              "<style scoped>\n",
              "    .dataframe tbody tr th:only-of-type {\n",
              "        vertical-align: middle;\n",
              "    }\n",
              "\n",
              "    .dataframe tbody tr th {\n",
              "        vertical-align: top;\n",
              "    }\n",
              "\n",
              "    .dataframe thead th {\n",
              "        text-align: right;\n",
              "    }\n",
              "</style>\n",
              "<table border=\"1\" class=\"dataframe\">\n",
              "  <thead>\n",
              "    <tr style=\"text-align: right;\">\n",
              "      <th></th>\n",
              "      <th>Date reported</th>\n",
              "      <th>Alberta Health Services Zone</th>\n",
              "      <th>Gender</th>\n",
              "      <th>Age group</th>\n",
              "      <th>Case status</th>\n",
              "      <th>Case type</th>\n",
              "    </tr>\n",
              "  </thead>\n",
              "  <tbody>\n",
              "    <tr>\n",
              "      <th>1</th>\n",
              "      <td>2021-04-21</td>\n",
              "      <td>Edmonton Zone</td>\n",
              "      <td>Male</td>\n",
              "      <td>30-39 years</td>\n",
              "      <td>Recovered</td>\n",
              "      <td>Confirmed</td>\n",
              "    </tr>\n",
              "    <tr>\n",
              "      <th>2</th>\n",
              "      <td>2021-05-17</td>\n",
              "      <td>North Zone</td>\n",
              "      <td>Male</td>\n",
              "      <td>10-19 years</td>\n",
              "      <td>Recovered</td>\n",
              "      <td>Confirmed</td>\n",
              "    </tr>\n",
              "    <tr>\n",
              "      <th>3</th>\n",
              "      <td>2020-12-13</td>\n",
              "      <td>Edmonton Zone</td>\n",
              "      <td>Male</td>\n",
              "      <td>5-9 years</td>\n",
              "      <td>Recovered</td>\n",
              "      <td>Confirmed</td>\n",
              "    </tr>\n",
              "    <tr>\n",
              "      <th>4</th>\n",
              "      <td>2021-05-11</td>\n",
              "      <td>Edmonton Zone</td>\n",
              "      <td>Male</td>\n",
              "      <td>60-69 years</td>\n",
              "      <td>Recovered</td>\n",
              "      <td>Confirmed</td>\n",
              "    </tr>\n",
              "    <tr>\n",
              "      <th>5</th>\n",
              "      <td>2021-01-30</td>\n",
              "      <td>Calgary Zone</td>\n",
              "      <td>Female</td>\n",
              "      <td>1-4 years</td>\n",
              "      <td>Recovered</td>\n",
              "      <td>Confirmed</td>\n",
              "    </tr>\n",
              "    <tr>\n",
              "      <th>...</th>\n",
              "      <td>...</td>\n",
              "      <td>...</td>\n",
              "      <td>...</td>\n",
              "      <td>...</td>\n",
              "      <td>...</td>\n",
              "      <td>...</td>\n",
              "    </tr>\n",
              "    <tr>\n",
              "      <th>527098</th>\n",
              "      <td>2022-01-13</td>\n",
              "      <td>North Zone</td>\n",
              "      <td>Female</td>\n",
              "      <td>50-59 years</td>\n",
              "      <td>Recovered</td>\n",
              "      <td>Confirmed</td>\n",
              "    </tr>\n",
              "    <tr>\n",
              "      <th>527099</th>\n",
              "      <td>2021-04-08</td>\n",
              "      <td>North Zone</td>\n",
              "      <td>Male</td>\n",
              "      <td>10-19 years</td>\n",
              "      <td>Recovered</td>\n",
              "      <td>Confirmed</td>\n",
              "    </tr>\n",
              "    <tr>\n",
              "      <th>527100</th>\n",
              "      <td>2021-01-01</td>\n",
              "      <td>Central Zone</td>\n",
              "      <td>Male</td>\n",
              "      <td>30-39 years</td>\n",
              "      <td>Recovered</td>\n",
              "      <td>Confirmed</td>\n",
              "    </tr>\n",
              "    <tr>\n",
              "      <th>527101</th>\n",
              "      <td>2022-02-03</td>\n",
              "      <td>Central Zone</td>\n",
              "      <td>Male</td>\n",
              "      <td>30-39 years</td>\n",
              "      <td>Recovered</td>\n",
              "      <td>Confirmed</td>\n",
              "    </tr>\n",
              "    <tr>\n",
              "      <th>527102</th>\n",
              "      <td>2022-02-05</td>\n",
              "      <td>Central Zone</td>\n",
              "      <td>Female</td>\n",
              "      <td>40-49 years</td>\n",
              "      <td>Recovered</td>\n",
              "      <td>Confirmed</td>\n",
              "    </tr>\n",
              "  </tbody>\n",
              "</table>\n",
              "<p>527898 rows × 6 columns</p>\n",
              "</div>"
            ],
            "text/plain": [
              "       Date reported Alberta Health Services Zone  Gender    Age group  \\\n",
              "1         2021-04-21                Edmonton Zone    Male  30-39 years   \n",
              "2         2021-05-17                   North Zone    Male  10-19 years   \n",
              "3         2020-12-13                Edmonton Zone    Male    5-9 years   \n",
              "4         2021-05-11                Edmonton Zone    Male  60-69 years   \n",
              "5         2021-01-30                 Calgary Zone  Female    1-4 years   \n",
              "...              ...                          ...     ...          ...   \n",
              "527098    2022-01-13                   North Zone  Female  50-59 years   \n",
              "527099    2021-04-08                   North Zone    Male  10-19 years   \n",
              "527100    2021-01-01                 Central Zone    Male  30-39 years   \n",
              "527101    2022-02-03                 Central Zone    Male  30-39 years   \n",
              "527102    2022-02-05                 Central Zone  Female  40-49 years   \n",
              "\n",
              "       Case status  Case type  \n",
              "1        Recovered  Confirmed  \n",
              "2        Recovered  Confirmed  \n",
              "3        Recovered  Confirmed  \n",
              "4        Recovered  Confirmed  \n",
              "5        Recovered  Confirmed  \n",
              "...            ...        ...  \n",
              "527098   Recovered  Confirmed  \n",
              "527099   Recovered  Confirmed  \n",
              "527100   Recovered  Confirmed  \n",
              "527101   Recovered  Confirmed  \n",
              "527102   Recovered  Confirmed  \n",
              "\n",
              "[527898 rows x 6 columns]"
            ]
          },
          "execution_count": 4,
          "metadata": {},
          "output_type": "execute_result"
        }
      ],
      "source": [
        "# Load the dataset into memory and display the results\n",
        "df = pd.read_csv(cases_data_source_path,\n",
        "                 index_col = 0 # Required on this dataset\n",
        "                               # Creates an extra colum storing index numbers\n",
        "                               # If not set for this data set.\n",
        "                               # Do not use as a default, only where required.\n",
        "                )\n",
        "\n",
        "df"
      ]
    },
    {
      "cell_type": "markdown",
      "id": "ad5e1cf5-3b1d-46d2-9190-7086662cb534",
      "metadata": {
        "id": "ad5e1cf5-3b1d-46d2-9190-7086662cb534"
      },
      "source": [
        "If you can see the data frame output, then you know the results worked. You have to add the `index_col = 0` in order for this data set to import correctly. Try running it without this parameter.\n",
        "\n",
        "#### <font style = \"color:rgb(20, 53, 103)\" > **Inspecting the data** </font>\n",
        "\n",
        "If you're satisfied that the data loaded correctly, the next step is to inspect the data to check for missing values as well as confirm the `dtype` of each feature looks correct; according to the kind of informaiton that it's holding.\n",
        "\n",
        "The following scripts will help you inspect your data."
      ]
    },
    {
      "cell_type": "code",
      "execution_count": null,
      "id": "06c4c104-b836-4957-9ad8-4359bd8b4881",
      "metadata": {
        "id": "06c4c104-b836-4957-9ad8-4359bd8b4881",
        "outputId": "e17262df-199d-48be-cb44-a315705acfab"
      },
      "outputs": [
        {
          "name": "stdout",
          "output_type": "stream",
          "text": [
            "<class 'pandas.core.frame.DataFrame'>\n",
            "Index: 527898 entries, 1 to 527102\n",
            "Data columns (total 6 columns):\n",
            " #   Column                        Non-Null Count   Dtype \n",
            "---  ------                        --------------   ----- \n",
            " 0   Date reported                 527898 non-null  object\n",
            " 1   Alberta Health Services Zone  527893 non-null  object\n",
            " 2   Gender                        527892 non-null  object\n",
            " 3   Age group                     527896 non-null  object\n",
            " 4   Case status                   527896 non-null  object\n",
            " 5   Case type                     527896 non-null  object\n",
            "dtypes: object(6)\n",
            "memory usage: 28.2+ MB\n"
          ]
        }
      ],
      "source": [
        "# Check for missing values and correct dtypes\n",
        "df.info()"
      ]
    },
    {
      "cell_type": "markdown",
      "id": "95bd8924-791e-4e4f-b727-ad1eed3d8838",
      "metadata": {
        "id": "95bd8924-791e-4e4f-b727-ad1eed3d8838"
      },
      "source": [
        "This data set has no missing values, and consists of all `object` dtypes. This is a strong indicator that the information found in these fields is [categorical data](http://www.stat.yale.edu/Courses/1997-98/101/catdat.htm), rather than [continous data](https://www.mathsisfun.com/definitions/continuous-data.html).\n",
        "\n",
        "We will now use an `interactive widget` to inspect each of these features. The purpose will be to create a data dictionary. A it's important that each feature is described in a way that anyone will understand the meaning of the information stored in that feature."
      ]
    },
    {
      "cell_type": "markdown",
      "id": "ed91666e-05cf-41b9-aaac-18c76f9d230c",
      "metadata": {
        "id": "ed91666e-05cf-41b9-aaac-18c76f9d230c"
      },
      "source": [
        "##### <font style = \"color:rgb(20, 53, 103)\" > **Creating a list of names of the features** </font>\n",
        "\n",
        "Although this data set only contains 6 features, it would be tedious to inspect all the features one by one. In order to automate this process, let's create an interactive widget.\n",
        "\n",
        "**First** let's create a list of features for us to inspect. We do this by calling the `df.columns()` method. You can learn more about his method here: https://pandas.pydata.org/pandas-docs/stable/reference/api/pandas.DataFrame.columns.html."
      ]
    },
    {
      "cell_type": "code",
      "execution_count": null,
      "id": "5fb8da01-7839-4714-b0c1-acaab4c34362",
      "metadata": {
        "id": "5fb8da01-7839-4714-b0c1-acaab4c34362",
        "outputId": "14b46589-c705-4d6c-f21c-55f3c977ba62"
      },
      "outputs": [
        {
          "data": {
            "text/plain": [
              "Index(['Date reported', 'Alberta Health Services Zone', 'Gender', 'Age group',\n",
              "       'Case status', 'Case type'],\n",
              "      dtype='object')"
            ]
          },
          "execution_count": 6,
          "metadata": {},
          "output_type": "execute_result"
        }
      ],
      "source": [
        "# Create a list that will hold the names of the columns, so we can inspect each feature.\n",
        "features = df.columns\n",
        "\n",
        "features"
      ]
    },
    {
      "cell_type": "markdown",
      "id": "fcedeeaf-142b-4d6c-ab86-1948d32a9780",
      "metadata": {
        "id": "fcedeeaf-142b-4d6c-ab86-1948d32a9780"
      },
      "source": [
        "##### <font style = \"color:rgb(20, 53, 103)\" > **Create an interactive widget** </font>\n",
        "\n",
        "The script is an interactive widget that you can use to inspect each feature, in order to better understand your data.\n",
        "\n",
        "It uses the list of columns we just created in order to allows us to interact with each feature to get a better understanding of the information it contains. The object of this inspection is to create the data dictionary below."
      ]
    },
    {
      "cell_type": "code",
      "execution_count": null,
      "id": "005518dc-934f-4e3f-ab95-ecace1d7a77c",
      "metadata": {
        "id": "005518dc-934f-4e3f-ab95-ecace1d7a77c",
        "outputId": "c323619d-78bf-473c-ea54-dd4bec9fde90",
        "colab": {
          "referenced_widgets": [
            "023b5996448d4917b28906662da9f07d"
          ]
        }
      },
      "outputs": [
        {
          "data": {
            "application/vnd.jupyter.widget-view+json": {
              "model_id": "023b5996448d4917b28906662da9f07d",
              "version_major": 2,
              "version_minor": 0
            },
            "text/plain": [
              "interactive(children=(Dropdown(description='variable', options=('Date reported', 'Alberta Health Services Zone…"
            ]
          },
          "metadata": {},
          "output_type": "display_data"
        }
      ],
      "source": [
        "# An interactive application that will help you inspect your feature\n",
        "# in order to create a data dictionary\n",
        "@widgets.interact\n",
        "def feature_describer(variable = features):\n",
        "    # Inspects the categorical information\n",
        "    # of the feature\n",
        "    print(\"Categorical Information\")\n",
        "    print(df[variable].value_counts())\n",
        "    \n",
        "    print('\\n')\n",
        "    \n",
        "    # Inspects the information of \n",
        "    # a continous feature\n",
        "    print(\"Continous Information\")\n",
        "    print(df[variable].describe())"
      ]
    },
    {
      "cell_type": "markdown",
      "id": "dc7aa374-fbab-4d9a-9a24-4bde1b052d2a",
      "metadata": {
        "jp-MarkdownHeadingCollapsed": true,
        "tags": [],
        "id": "dc7aa374-fbab-4d9a-9a24-4bde1b052d2a"
      },
      "source": [
        "### <font style = \"color:rgb(20, 53, 103)\" > **Data Description** </font>\n",
        "\n",
        "The purpose of this step is to describe the features in such a way that anyone can understand it's meaning. You need to be able to either describe, or provide sources of references on your application of the defintion of the each feature name. It's important that you cite references or describe your features in such a way that people can agree on it's meaning or context (generally speaking).\n",
        "\n",
        "Any analysis or story you decide to tell with this data has to make sure everyone understands how the data is being interpretted. Everyone has a different story.\n",
        "\n",
        "In the data dictionary below, the following defintions are being used:\n",
        "\n",
        "**Definitions**\n",
        "\n",
        "> `Date reported` - The date a COVID-19 case was either recorded as `Confirmed` or `Probable` in Alberta. This information is stored in the **Case type** field. The **Case status** field tracks these cases as either `Active`, `Recovered` or `Died`. These numbers have been recorded daily since March 6, 2020. \n",
        "\n",
        "> `Alberta Health Services Zone` - Identifies the Health Services Zone where the case was reported. There are 6 zones found in this data set, the 5 Alberta Health Zones: `North Health`, `Edmonton Health`, `Central Health`, `Calgary Health`, `South Health`, as well as `Unkown` zone. You can get more information on the Alberta Health Services zone here: https://www.albertahealthservices.ca/assets/about/publications/ahs-ar-2017/zones.html\n",
        "\n",
        "> `Gender` - Identifies if the individual is an `Unknown`, `Female`, or `Male` gender.\n",
        "\n",
        "> `Age group` - Identifies the age group of the individual with COVID. The age categories are: `Unknown`, `Under 1 year`, `1 - 4 years`, `5 - 9 years`, `10 - 19 years`, `20 - 29 years`, `30 - 39 years`, `40 - 49 years`, `50 - 59 years`, `60 - 69 years`,`70 - 79 years`, `80+ years`.\n",
        "\n",
        "> `Case status` - Tracks the day-to-day status of a COVID case. On any given day, the status can be: `Active`, `Recovered`, or `Died`, depending on the outcome of a `Confirmed` or `Probable` case.\n",
        "\n",
        "> `Case type` - Records if a COVID-19 test is either `Confirmed` or `Probable`. The `Case status` field tracks the outcome of any `Confirmed` or `Probable` case.\n",
        "\n",
        "\n",
        "#### <font style = \"color:rgb(20, 53, 103)\" > **Data Dictionary** </font>\n",
        "\n",
        "The following is a description of the features found in this dataset\n",
        "\n",
        "|Index   | Feature         | Description                                                             | Categorical or Continous |  Range of values         |\n",
        "|:------ |:----------------|:-------------------------------------------------------------- ---------|:-------------------------|:-------------------------|\n",
        "| 0      | Date reported   |The date a COVID-19 test was recorded in Alberta                         |Categorical               |`YYYY-MM-DD`              |\n",
        "| 1      | Alberta Health Services Zone | Identifies the health services zone where a case was recorded |Categorical            |`Unknown`, `North Zone`, `Edmonton Zone`, `Central Zone`, `Calgary Zone`, `South Zone` |\n",
        "| 2      | Gender          |The gender of the recorded case                                             |Categorical              |`Unknown`, `Female`, `Male` |\n",
        "| 3      | Age group       |The age group of a recorded case                 |Categorical   |`Unknown`, `Under 1 year`, `1 - 4 years`, `5 - 9 years`, `10 - 19 years`, `20 - 29 years`, `30 - 39 years`, `40 - 49 years`, `50 - 59 years`, `60 - 69 years`,`70 - 79 years`, `80+ years` |\n",
        "| 4      | Case status   |Tracks the day-to-day status of a COVID-19 case                        |Categorical               |`Active`, `Recovered`, `Died` |\n",
        "| 5      | Case type | Tracks a COVID positive case                          |Categorical               |`Confirmed` or `Probable` |\n",
        "\n",
        "#### <font style = \"color:rgb(20, 53, 103)\" > **Descriptive Statistics** </font>\n",
        "\n",
        "It's now time to visually inspect this information in order to get a better understanding and context of the data, and it's distrubution."
      ]
    },
    {
      "cell_type": "markdown",
      "id": "ce21f6d7-c5b8-401e-b214-0527a2b25104",
      "metadata": {
        "id": "ce21f6d7-c5b8-401e-b214-0527a2b25104"
      },
      "source": [
        "## <font style = \"color:rgb(20, 53, 103)\" > **Descriptive Analytics Using the Plotly Graphing Library** </font>\n",
        "\n",
        "The [Plotly](https://plotly.com/python/) graphing library is one of the most powerful tools available to the free and open source community. The visualizations one can produce with [Plotly](https://plotly.com/python/) rival those you can create with either Power-Bi or Tableau. \n",
        "\n",
        "One of the main reasons you want to learn python is learning how to story tell using the [Plotly](https://plotly.com/python/). One of the reasons [Plotly](https://plotly.com/python/) is so popular is because it provides rich, interactive graphs for a person to better understand, and interpret the results. What's more; all the infographics on the Government of Alberta website on COVID use the [Plotly](https://plotly.com/python/) library. The following link is an example of interactive data. However of the graphs: https://www.alberta.ca/stats/covid-19-alberta-statistics.htm#pre-existing-conditions "
      ]
    },
    {
      "cell_type": "markdown",
      "id": "79377ece-6449-4c04-ae17-1702baadeae6",
      "metadata": {
        "tags": [],
        "id": "79377ece-6449-4c04-ae17-1702baadeae6"
      },
      "source": [
        "### <font style = \"color:rgb(20, 53, 103)\" > **Creating Dictionaries for Graph Consistency** </font>\n",
        "\n",
        "In order to maintain a consistent coloring, as well as ordering scheme in certain visualizations, the following dictionaries will be used when visualizing the information."
      ]
    },
    {
      "cell_type": "code",
      "execution_count": null,
      "id": "9b39739e-8027-47ce-a495-67f469eea704",
      "metadata": {
        "id": "9b39739e-8027-47ce-a495-67f469eea704"
      },
      "outputs": [],
      "source": [
        "# Simple dictionary that assigns specific color shades\n",
        "# to the listed categorical values\n",
        "# These colors can be applied to all plots so colors stay consistent\n",
        "# You can see a list of supported colors here: https://developer.mozilla.org/en-US/docs/Web/CSS/color_value#color_keywords\n",
        "color_discrete_map = {'Recovered': 'Green',\n",
        "                      'Active': 'Yellow',\n",
        "                      'Died': 'Red',\n",
        "                      \n",
        "                      'Male': 'Blue',\n",
        "                      'Female': 'Pink',\n",
        "                      'Unkonwn': 'Fuchsia',\n",
        "                      \n",
        "                      'Under 1 year': 'Blue',\n",
        "                      '1-4 years': 'Aqua',\n",
        "                      '5-9 years': 'darkslateblue',\n",
        "                      '10-19 years': 'Cadetblue',\n",
        "                      '20-29 years': 'darkolivegreen',\n",
        "                      '30-39 years': 'darkviolet',\n",
        "                      '40-49 years': 'darksalmon',\n",
        "                      '50-59 years': 'darkgoldenrod',\n",
        "                      '60-69 years': 'Green',\n",
        "                      '70-79 years': 'Yellow',\n",
        "                      '80+ years': 'Red',\n",
        "                      \n",
        "                      'North Zone': 'navy',\n",
        "                      'Edmonton Zone': 'orangered',\n",
        "                      'Central Zone': 'darkgreen',\n",
        "                      'Calgary Zone': 'purple',\n",
        "                      'South Zone': 'maroon',\n",
        "                      'Unknown': 'black',\n",
        "                      \n",
        "                      \n",
        "                      \n",
        "                     }"
      ]
    },
    {
      "cell_type": "code",
      "execution_count": null,
      "id": "864949c9-e3a3-4a11-9217-e31721676fc7",
      "metadata": {
        "id": "864949c9-e3a3-4a11-9217-e31721676fc7"
      },
      "outputs": [],
      "source": [
        "# A dictionary that holds the order in which things are displayed\n",
        "category_orders = {\"Age group\": ['Unknown', 'Under 1 year', '1-4 years', '5-9 years', '10-19 years', '20-29 years',\n",
        "                                 '30-39 years', '40-49 years', '50-59 years', '60-69 years', '70-79 years', '80+ years'],\n",
        "                   \n",
        "                   \"Alberta Health Services Zone\": ['North Zone', 'Edmonton Zone', 'Central Zone', 'Calgary Zone', 'South Zone', 'Unknown'],\n",
        "                   \n",
        "                   'Year': [2020, 2021],\n",
        "                   }"
      ]
    },
    {
      "cell_type": "markdown",
      "id": "f660d17b-0cad-4189-8502-6c719dcda067",
      "metadata": {
        "id": "f660d17b-0cad-4189-8502-6c719dcda067"
      },
      "source": [
        "### <font style = \"color:rgb(20, 53, 103)\" > **Creating Date, Time, and Week Day Fields** </font>\n",
        "\n",
        "The date reported field is not a numerical field, it's an `object` data-type, considered a categorical value. In order to do special filterering sorting, another field will be added that will split this field down into `Year`, `Month`, and `Day` in order to do enhance querying. These steps can also be considered part of `data wrangling` since you are adding more features to the data set."
      ]
    },
    {
      "cell_type": "code",
      "execution_count": null,
      "id": "1e53868d-a14a-48bf-82cb-6696ffb6d078",
      "metadata": {
        "id": "1e53868d-a14a-48bf-82cb-6696ffb6d078",
        "outputId": "e9014a7f-b7f2-4842-ae83-aaeb2833892a"
      },
      "outputs": [
        {
          "name": "stdout",
          "output_type": "stream",
          "text": [
            "<class 'pandas.core.frame.DataFrame'>\n",
            "Index: 527898 entries, 1 to 527102\n",
            "Data columns (total 6 columns):\n",
            " #   Column                        Non-Null Count   Dtype \n",
            "---  ------                        --------------   ----- \n",
            " 0   Date reported                 527898 non-null  object\n",
            " 1   Alberta Health Services Zone  527893 non-null  object\n",
            " 2   Gender                        527892 non-null  object\n",
            " 3   Age group                     527896 non-null  object\n",
            " 4   Case status                   527896 non-null  object\n",
            " 5   Case type                     527896 non-null  object\n",
            "dtypes: object(6)\n",
            "memory usage: 28.2+ MB\n"
          ]
        }
      ],
      "source": [
        "# Confirm the data types for each field:\n",
        "df.info()"
      ]
    },
    {
      "cell_type": "code",
      "execution_count": null,
      "id": "5d31e652-0373-43b6-a70d-c5134b27f0ac",
      "metadata": {
        "id": "5d31e652-0373-43b6-a70d-c5134b27f0ac",
        "outputId": "e8fe9aa9-e71c-4f56-a6c1-e61294aae41a"
      },
      "outputs": [
        {
          "data": {
            "text/html": [
              "<div>\n",
              "<style scoped>\n",
              "    .dataframe tbody tr th:only-of-type {\n",
              "        vertical-align: middle;\n",
              "    }\n",
              "\n",
              "    .dataframe tbody tr th {\n",
              "        vertical-align: top;\n",
              "    }\n",
              "\n",
              "    .dataframe thead th {\n",
              "        text-align: right;\n",
              "    }\n",
              "</style>\n",
              "<table border=\"1\" class=\"dataframe\">\n",
              "  <thead>\n",
              "    <tr style=\"text-align: right;\">\n",
              "      <th></th>\n",
              "      <th>Date reported</th>\n",
              "      <th>Alberta Health Services Zone</th>\n",
              "      <th>Gender</th>\n",
              "      <th>Age group</th>\n",
              "      <th>Case status</th>\n",
              "      <th>Case type</th>\n",
              "      <th>ISO Date</th>\n",
              "    </tr>\n",
              "  </thead>\n",
              "  <tbody>\n",
              "    <tr>\n",
              "      <th>1</th>\n",
              "      <td>2021-04-21</td>\n",
              "      <td>Edmonton Zone</td>\n",
              "      <td>Male</td>\n",
              "      <td>30-39 years</td>\n",
              "      <td>Recovered</td>\n",
              "      <td>Confirmed</td>\n",
              "      <td>2021-04-21</td>\n",
              "    </tr>\n",
              "    <tr>\n",
              "      <th>2</th>\n",
              "      <td>2021-05-17</td>\n",
              "      <td>North Zone</td>\n",
              "      <td>Male</td>\n",
              "      <td>10-19 years</td>\n",
              "      <td>Recovered</td>\n",
              "      <td>Confirmed</td>\n",
              "      <td>2021-05-17</td>\n",
              "    </tr>\n",
              "    <tr>\n",
              "      <th>3</th>\n",
              "      <td>2020-12-13</td>\n",
              "      <td>Edmonton Zone</td>\n",
              "      <td>Male</td>\n",
              "      <td>5-9 years</td>\n",
              "      <td>Recovered</td>\n",
              "      <td>Confirmed</td>\n",
              "      <td>2020-12-13</td>\n",
              "    </tr>\n",
              "    <tr>\n",
              "      <th>4</th>\n",
              "      <td>2021-05-11</td>\n",
              "      <td>Edmonton Zone</td>\n",
              "      <td>Male</td>\n",
              "      <td>60-69 years</td>\n",
              "      <td>Recovered</td>\n",
              "      <td>Confirmed</td>\n",
              "      <td>2021-05-11</td>\n",
              "    </tr>\n",
              "    <tr>\n",
              "      <th>5</th>\n",
              "      <td>2021-01-30</td>\n",
              "      <td>Calgary Zone</td>\n",
              "      <td>Female</td>\n",
              "      <td>1-4 years</td>\n",
              "      <td>Recovered</td>\n",
              "      <td>Confirmed</td>\n",
              "      <td>2021-01-30</td>\n",
              "    </tr>\n",
              "    <tr>\n",
              "      <th>...</th>\n",
              "      <td>...</td>\n",
              "      <td>...</td>\n",
              "      <td>...</td>\n",
              "      <td>...</td>\n",
              "      <td>...</td>\n",
              "      <td>...</td>\n",
              "      <td>...</td>\n",
              "    </tr>\n",
              "    <tr>\n",
              "      <th>527098</th>\n",
              "      <td>2022-01-13</td>\n",
              "      <td>North Zone</td>\n",
              "      <td>Female</td>\n",
              "      <td>50-59 years</td>\n",
              "      <td>Recovered</td>\n",
              "      <td>Confirmed</td>\n",
              "      <td>2022-01-13</td>\n",
              "    </tr>\n",
              "    <tr>\n",
              "      <th>527099</th>\n",
              "      <td>2021-04-08</td>\n",
              "      <td>North Zone</td>\n",
              "      <td>Male</td>\n",
              "      <td>10-19 years</td>\n",
              "      <td>Recovered</td>\n",
              "      <td>Confirmed</td>\n",
              "      <td>2021-04-08</td>\n",
              "    </tr>\n",
              "    <tr>\n",
              "      <th>527100</th>\n",
              "      <td>2021-01-01</td>\n",
              "      <td>Central Zone</td>\n",
              "      <td>Male</td>\n",
              "      <td>30-39 years</td>\n",
              "      <td>Recovered</td>\n",
              "      <td>Confirmed</td>\n",
              "      <td>2021-01-01</td>\n",
              "    </tr>\n",
              "    <tr>\n",
              "      <th>527101</th>\n",
              "      <td>2022-02-03</td>\n",
              "      <td>Central Zone</td>\n",
              "      <td>Male</td>\n",
              "      <td>30-39 years</td>\n",
              "      <td>Recovered</td>\n",
              "      <td>Confirmed</td>\n",
              "      <td>2022-02-03</td>\n",
              "    </tr>\n",
              "    <tr>\n",
              "      <th>527102</th>\n",
              "      <td>2022-02-05</td>\n",
              "      <td>Central Zone</td>\n",
              "      <td>Female</td>\n",
              "      <td>40-49 years</td>\n",
              "      <td>Recovered</td>\n",
              "      <td>Confirmed</td>\n",
              "      <td>2022-02-05</td>\n",
              "    </tr>\n",
              "  </tbody>\n",
              "</table>\n",
              "<p>527898 rows × 7 columns</p>\n",
              "</div>"
            ],
            "text/plain": [
              "       Date reported Alberta Health Services Zone  Gender    Age group  \\\n",
              "1         2021-04-21                Edmonton Zone    Male  30-39 years   \n",
              "2         2021-05-17                   North Zone    Male  10-19 years   \n",
              "3         2020-12-13                Edmonton Zone    Male    5-9 years   \n",
              "4         2021-05-11                Edmonton Zone    Male  60-69 years   \n",
              "5         2021-01-30                 Calgary Zone  Female    1-4 years   \n",
              "...              ...                          ...     ...          ...   \n",
              "527098    2022-01-13                   North Zone  Female  50-59 years   \n",
              "527099    2021-04-08                   North Zone    Male  10-19 years   \n",
              "527100    2021-01-01                 Central Zone    Male  30-39 years   \n",
              "527101    2022-02-03                 Central Zone    Male  30-39 years   \n",
              "527102    2022-02-05                 Central Zone  Female  40-49 years   \n",
              "\n",
              "       Case status  Case type   ISO Date  \n",
              "1        Recovered  Confirmed 2021-04-21  \n",
              "2        Recovered  Confirmed 2021-05-17  \n",
              "3        Recovered  Confirmed 2020-12-13  \n",
              "4        Recovered  Confirmed 2021-05-11  \n",
              "5        Recovered  Confirmed 2021-01-30  \n",
              "...            ...        ...        ...  \n",
              "527098   Recovered  Confirmed 2022-01-13  \n",
              "527099   Recovered  Confirmed 2021-04-08  \n",
              "527100   Recovered  Confirmed 2021-01-01  \n",
              "527101   Recovered  Confirmed 2022-02-03  \n",
              "527102   Recovered  Confirmed 2022-02-05  \n",
              "\n",
              "[527898 rows x 7 columns]"
            ]
          },
          "execution_count": 11,
          "metadata": {},
          "output_type": "execute_result"
        }
      ],
      "source": [
        "# Create a new field called date, that will convert the 'Date reported' into an ISO date\n",
        "# You need to do this in order to get the week number\n",
        "df['ISO Date'] = pd.to_datetime(df['Date reported'], errors = 'coerce')\n",
        "\n",
        "df"
      ]
    },
    {
      "cell_type": "code",
      "execution_count": null,
      "id": "6bfab333-e395-4922-8841-96756072d7f5",
      "metadata": {
        "id": "6bfab333-e395-4922-8841-96756072d7f5",
        "outputId": "6c1e529b-1b33-4303-9e30-d725b4c271be"
      },
      "outputs": [
        {
          "ename": "ParserError",
          "evalue": "Unknown string format: Recovered",
          "output_type": "error",
          "traceback": [
            "\u001b[0;31m---------------------------------------------------------------------------\u001b[0m",
            "\u001b[0;31mTypeError\u001b[0m                                 Traceback (most recent call last)",
            "\u001b[0;32m~/.virtualenvs/SamiaVE/lib/python3.7/site-packages/pandas/core/arrays/datetimes.py\u001b[0m in \u001b[0;36mobjects_to_datetime64ns\u001b[0;34m(data, dayfirst, yearfirst, utc, errors, require_iso8601, allow_object, allow_mixed)\u001b[0m\n\u001b[1;32m   2186\u001b[0m         \u001b[0;32mtry\u001b[0m\u001b[0;34m:\u001b[0m\u001b[0;34m\u001b[0m\u001b[0;34m\u001b[0m\u001b[0m\n\u001b[0;32m-> 2187\u001b[0;31m             \u001b[0mvalues\u001b[0m\u001b[0;34m,\u001b[0m \u001b[0mtz_parsed\u001b[0m \u001b[0;34m=\u001b[0m \u001b[0mconversion\u001b[0m\u001b[0;34m.\u001b[0m\u001b[0mdatetime_to_datetime64\u001b[0m\u001b[0;34m(\u001b[0m\u001b[0mdata\u001b[0m\u001b[0;34m.\u001b[0m\u001b[0mravel\u001b[0m\u001b[0;34m(\u001b[0m\u001b[0;34m\"K\"\u001b[0m\u001b[0;34m)\u001b[0m\u001b[0;34m)\u001b[0m\u001b[0;34m\u001b[0m\u001b[0;34m\u001b[0m\u001b[0m\n\u001b[0m\u001b[1;32m   2188\u001b[0m             \u001b[0;31m# If tzaware, these values represent unix timestamps, so we\u001b[0m\u001b[0;34m\u001b[0m\u001b[0;34m\u001b[0m\u001b[0;34m\u001b[0m\u001b[0m\n",
            "\u001b[0;32m~/.virtualenvs/SamiaVE/lib/python3.7/site-packages/pandas/_libs/tslibs/conversion.pyx\u001b[0m in \u001b[0;36mpandas._libs.tslibs.conversion.datetime_to_datetime64\u001b[0;34m()\u001b[0m\n",
            "\u001b[0;31mTypeError\u001b[0m: Unrecognized value type: <class 'str'>",
            "\nDuring handling of the above exception, another exception occurred:\n",
            "\u001b[0;31mParserError\u001b[0m                               Traceback (most recent call last)",
            "\u001b[0;32m/tmp/ipykernel_2463/1120363794.py\u001b[0m in \u001b[0;36m<module>\u001b[0;34m\u001b[0m\n\u001b[1;32m      2\u001b[0m \u001b[0;34m\u001b[0m\u001b[0m\n\u001b[1;32m      3\u001b[0m \u001b[0;31m# Creates information from the 'Date recorded' feature\u001b[0m\u001b[0;34m\u001b[0m\u001b[0;34m\u001b[0m\u001b[0;34m\u001b[0m\u001b[0m\n\u001b[0;32m----> 4\u001b[0;31m \u001b[0mdf\u001b[0m\u001b[0;34m[\u001b[0m\u001b[0;34m'Year'\u001b[0m\u001b[0;34m]\u001b[0m \u001b[0;34m=\u001b[0m \u001b[0mpd\u001b[0m\u001b[0;34m.\u001b[0m\u001b[0mDatetimeIndex\u001b[0m\u001b[0;34m(\u001b[0m\u001b[0mdf\u001b[0m\u001b[0;34m[\u001b[0m\u001b[0;34m'Date reported'\u001b[0m\u001b[0;34m]\u001b[0m\u001b[0;34m)\u001b[0m\u001b[0;34m.\u001b[0m\u001b[0myear\u001b[0m\u001b[0;34m\u001b[0m\u001b[0;34m\u001b[0m\u001b[0m\n\u001b[0m\u001b[1;32m      5\u001b[0m \u001b[0mdf\u001b[0m\u001b[0;34m[\u001b[0m\u001b[0;34m'Month'\u001b[0m\u001b[0;34m]\u001b[0m \u001b[0;34m=\u001b[0m \u001b[0mpd\u001b[0m\u001b[0;34m.\u001b[0m\u001b[0mDatetimeIndex\u001b[0m\u001b[0;34m(\u001b[0m\u001b[0mdf\u001b[0m\u001b[0;34m[\u001b[0m\u001b[0;34m'Date reported'\u001b[0m\u001b[0;34m]\u001b[0m\u001b[0;34m)\u001b[0m\u001b[0;34m.\u001b[0m\u001b[0mmonth\u001b[0m\u001b[0;34m\u001b[0m\u001b[0;34m\u001b[0m\u001b[0m\n\u001b[1;32m      6\u001b[0m \u001b[0mdf\u001b[0m\u001b[0;34m[\u001b[0m\u001b[0;34m'Day'\u001b[0m\u001b[0;34m]\u001b[0m \u001b[0;34m=\u001b[0m \u001b[0mpd\u001b[0m\u001b[0;34m.\u001b[0m\u001b[0mDatetimeIndex\u001b[0m\u001b[0;34m(\u001b[0m\u001b[0mdf\u001b[0m\u001b[0;34m[\u001b[0m\u001b[0;34m'Date reported'\u001b[0m\u001b[0;34m]\u001b[0m\u001b[0;34m)\u001b[0m\u001b[0;34m.\u001b[0m\u001b[0mday\u001b[0m\u001b[0;34m\u001b[0m\u001b[0;34m\u001b[0m\u001b[0m\n",
            "\u001b[0;32m~/.virtualenvs/SamiaVE/lib/python3.7/site-packages/pandas/core/indexes/datetimes.py\u001b[0m in \u001b[0;36m__new__\u001b[0;34m(cls, data, freq, tz, normalize, closed, ambiguous, dayfirst, yearfirst, dtype, copy, name)\u001b[0m\n\u001b[1;32m    339\u001b[0m             \u001b[0mdayfirst\u001b[0m\u001b[0;34m=\u001b[0m\u001b[0mdayfirst\u001b[0m\u001b[0;34m,\u001b[0m\u001b[0;34m\u001b[0m\u001b[0;34m\u001b[0m\u001b[0m\n\u001b[1;32m    340\u001b[0m             \u001b[0myearfirst\u001b[0m\u001b[0;34m=\u001b[0m\u001b[0myearfirst\u001b[0m\u001b[0;34m,\u001b[0m\u001b[0;34m\u001b[0m\u001b[0;34m\u001b[0m\u001b[0m\n\u001b[0;32m--> 341\u001b[0;31m             \u001b[0mambiguous\u001b[0m\u001b[0;34m=\u001b[0m\u001b[0mambiguous\u001b[0m\u001b[0;34m,\u001b[0m\u001b[0;34m\u001b[0m\u001b[0;34m\u001b[0m\u001b[0m\n\u001b[0m\u001b[1;32m    342\u001b[0m         )\n\u001b[1;32m    343\u001b[0m \u001b[0;34m\u001b[0m\u001b[0m\n",
            "\u001b[0;32m~/.virtualenvs/SamiaVE/lib/python3.7/site-packages/pandas/core/arrays/datetimes.py\u001b[0m in \u001b[0;36m_from_sequence_not_strict\u001b[0;34m(cls, data, dtype, copy, tz, freq, dayfirst, yearfirst, ambiguous)\u001b[0m\n\u001b[1;32m    360\u001b[0m             \u001b[0mdayfirst\u001b[0m\u001b[0;34m=\u001b[0m\u001b[0mdayfirst\u001b[0m\u001b[0;34m,\u001b[0m\u001b[0;34m\u001b[0m\u001b[0;34m\u001b[0m\u001b[0m\n\u001b[1;32m    361\u001b[0m             \u001b[0myearfirst\u001b[0m\u001b[0;34m=\u001b[0m\u001b[0myearfirst\u001b[0m\u001b[0;34m,\u001b[0m\u001b[0;34m\u001b[0m\u001b[0;34m\u001b[0m\u001b[0m\n\u001b[0;32m--> 362\u001b[0;31m             \u001b[0mambiguous\u001b[0m\u001b[0;34m=\u001b[0m\u001b[0mambiguous\u001b[0m\u001b[0;34m,\u001b[0m\u001b[0;34m\u001b[0m\u001b[0;34m\u001b[0m\u001b[0m\n\u001b[0m\u001b[1;32m    363\u001b[0m         )\n\u001b[1;32m    364\u001b[0m \u001b[0;34m\u001b[0m\u001b[0m\n",
            "\u001b[0;32m~/.virtualenvs/SamiaVE/lib/python3.7/site-packages/pandas/core/arrays/datetimes.py\u001b[0m in \u001b[0;36msequence_to_dt64ns\u001b[0;34m(data, dtype, copy, tz, dayfirst, yearfirst, ambiguous, allow_object, allow_mixed, require_iso8601)\u001b[0m\n\u001b[1;32m   2064\u001b[0m                 \u001b[0mallow_object\u001b[0m\u001b[0;34m=\u001b[0m\u001b[0mallow_object\u001b[0m\u001b[0;34m,\u001b[0m\u001b[0;34m\u001b[0m\u001b[0;34m\u001b[0m\u001b[0m\n\u001b[1;32m   2065\u001b[0m                 \u001b[0mallow_mixed\u001b[0m\u001b[0;34m=\u001b[0m\u001b[0mallow_mixed\u001b[0m\u001b[0;34m,\u001b[0m\u001b[0;34m\u001b[0m\u001b[0;34m\u001b[0m\u001b[0m\n\u001b[0;32m-> 2066\u001b[0;31m                 \u001b[0mrequire_iso8601\u001b[0m\u001b[0;34m=\u001b[0m\u001b[0mrequire_iso8601\u001b[0m\u001b[0;34m,\u001b[0m\u001b[0;34m\u001b[0m\u001b[0;34m\u001b[0m\u001b[0m\n\u001b[0m\u001b[1;32m   2067\u001b[0m             )\n\u001b[1;32m   2068\u001b[0m             \u001b[0;32mif\u001b[0m \u001b[0mtz\u001b[0m \u001b[0;32mand\u001b[0m \u001b[0minferred_tz\u001b[0m\u001b[0;34m:\u001b[0m\u001b[0;34m\u001b[0m\u001b[0;34m\u001b[0m\u001b[0m\n",
            "\u001b[0;32m~/.virtualenvs/SamiaVE/lib/python3.7/site-packages/pandas/core/arrays/datetimes.py\u001b[0m in \u001b[0;36mobjects_to_datetime64ns\u001b[0;34m(data, dayfirst, yearfirst, utc, errors, require_iso8601, allow_object, allow_mixed)\u001b[0m\n\u001b[1;32m   2191\u001b[0m             \u001b[0;32mreturn\u001b[0m \u001b[0mvalues\u001b[0m\u001b[0;34m.\u001b[0m\u001b[0mview\u001b[0m\u001b[0;34m(\u001b[0m\u001b[0;34m\"i8\"\u001b[0m\u001b[0;34m)\u001b[0m\u001b[0;34m,\u001b[0m \u001b[0mtz_parsed\u001b[0m\u001b[0;34m\u001b[0m\u001b[0;34m\u001b[0m\u001b[0m\n\u001b[1;32m   2192\u001b[0m         \u001b[0;32mexcept\u001b[0m \u001b[0;34m(\u001b[0m\u001b[0mValueError\u001b[0m\u001b[0;34m,\u001b[0m \u001b[0mTypeError\u001b[0m\u001b[0;34m)\u001b[0m\u001b[0;34m:\u001b[0m\u001b[0;34m\u001b[0m\u001b[0;34m\u001b[0m\u001b[0m\n\u001b[0;32m-> 2193\u001b[0;31m             \u001b[0;32mraise\u001b[0m \u001b[0merr\u001b[0m\u001b[0;34m\u001b[0m\u001b[0;34m\u001b[0m\u001b[0m\n\u001b[0m\u001b[1;32m   2194\u001b[0m \u001b[0;34m\u001b[0m\u001b[0m\n\u001b[1;32m   2195\u001b[0m     \u001b[0;32mif\u001b[0m \u001b[0mtz_parsed\u001b[0m \u001b[0;32mis\u001b[0m \u001b[0;32mnot\u001b[0m \u001b[0;32mNone\u001b[0m\u001b[0;34m:\u001b[0m\u001b[0;34m\u001b[0m\u001b[0;34m\u001b[0m\u001b[0m\n",
            "\u001b[0;32m~/.virtualenvs/SamiaVE/lib/python3.7/site-packages/pandas/core/arrays/datetimes.py\u001b[0m in \u001b[0;36mobjects_to_datetime64ns\u001b[0;34m(data, dayfirst, yearfirst, utc, errors, require_iso8601, allow_object, allow_mixed)\u001b[0m\n\u001b[1;32m   2180\u001b[0m             \u001b[0myearfirst\u001b[0m\u001b[0;34m=\u001b[0m\u001b[0myearfirst\u001b[0m\u001b[0;34m,\u001b[0m\u001b[0;34m\u001b[0m\u001b[0;34m\u001b[0m\u001b[0m\n\u001b[1;32m   2181\u001b[0m             \u001b[0mrequire_iso8601\u001b[0m\u001b[0;34m=\u001b[0m\u001b[0mrequire_iso8601\u001b[0m\u001b[0;34m,\u001b[0m\u001b[0;34m\u001b[0m\u001b[0;34m\u001b[0m\u001b[0m\n\u001b[0;32m-> 2182\u001b[0;31m             \u001b[0mallow_mixed\u001b[0m\u001b[0;34m=\u001b[0m\u001b[0mallow_mixed\u001b[0m\u001b[0;34m,\u001b[0m\u001b[0;34m\u001b[0m\u001b[0;34m\u001b[0m\u001b[0m\n\u001b[0m\u001b[1;32m   2183\u001b[0m         )\n\u001b[1;32m   2184\u001b[0m         \u001b[0mresult\u001b[0m \u001b[0;34m=\u001b[0m \u001b[0mresult\u001b[0m\u001b[0;34m.\u001b[0m\u001b[0mreshape\u001b[0m\u001b[0;34m(\u001b[0m\u001b[0mdata\u001b[0m\u001b[0;34m.\u001b[0m\u001b[0mshape\u001b[0m\u001b[0;34m,\u001b[0m \u001b[0morder\u001b[0m\u001b[0;34m=\u001b[0m\u001b[0morder\u001b[0m\u001b[0;34m)\u001b[0m\u001b[0;34m\u001b[0m\u001b[0;34m\u001b[0m\u001b[0m\n",
            "\u001b[0;32m~/.virtualenvs/SamiaVE/lib/python3.7/site-packages/pandas/_libs/tslib.pyx\u001b[0m in \u001b[0;36mpandas._libs.tslib.array_to_datetime\u001b[0;34m()\u001b[0m\n",
            "\u001b[0;32m~/.virtualenvs/SamiaVE/lib/python3.7/site-packages/pandas/_libs/tslib.pyx\u001b[0m in \u001b[0;36mpandas._libs.tslib.array_to_datetime\u001b[0;34m()\u001b[0m\n",
            "\u001b[0;32m~/.virtualenvs/SamiaVE/lib/python3.7/site-packages/pandas/_libs/tslib.pyx\u001b[0m in \u001b[0;36mpandas._libs.tslib._array_to_datetime_object\u001b[0;34m()\u001b[0m\n",
            "\u001b[0;32m~/.virtualenvs/SamiaVE/lib/python3.7/site-packages/pandas/_libs/tslib.pyx\u001b[0m in \u001b[0;36mpandas._libs.tslib._array_to_datetime_object\u001b[0;34m()\u001b[0m\n",
            "\u001b[0;32m~/.virtualenvs/SamiaVE/lib/python3.7/site-packages/pandas/_libs/tslibs/parsing.pyx\u001b[0m in \u001b[0;36mpandas._libs.tslibs.parsing.parse_datetime_string\u001b[0;34m()\u001b[0m\n",
            "\u001b[0;32m~/.virtualenvs/SamiaVE/lib/python3.7/site-packages/dateutil/parser/_parser.py\u001b[0m in \u001b[0;36mparse\u001b[0;34m(timestr, parserinfo, **kwargs)\u001b[0m\n\u001b[1;32m   1366\u001b[0m         \u001b[0;32mreturn\u001b[0m \u001b[0mparser\u001b[0m\u001b[0;34m(\u001b[0m\u001b[0mparserinfo\u001b[0m\u001b[0;34m)\u001b[0m\u001b[0;34m.\u001b[0m\u001b[0mparse\u001b[0m\u001b[0;34m(\u001b[0m\u001b[0mtimestr\u001b[0m\u001b[0;34m,\u001b[0m \u001b[0;34m**\u001b[0m\u001b[0mkwargs\u001b[0m\u001b[0;34m)\u001b[0m\u001b[0;34m\u001b[0m\u001b[0;34m\u001b[0m\u001b[0m\n\u001b[1;32m   1367\u001b[0m     \u001b[0;32melse\u001b[0m\u001b[0;34m:\u001b[0m\u001b[0;34m\u001b[0m\u001b[0;34m\u001b[0m\u001b[0m\n\u001b[0;32m-> 1368\u001b[0;31m         \u001b[0;32mreturn\u001b[0m \u001b[0mDEFAULTPARSER\u001b[0m\u001b[0;34m.\u001b[0m\u001b[0mparse\u001b[0m\u001b[0;34m(\u001b[0m\u001b[0mtimestr\u001b[0m\u001b[0;34m,\u001b[0m \u001b[0;34m**\u001b[0m\u001b[0mkwargs\u001b[0m\u001b[0;34m)\u001b[0m\u001b[0;34m\u001b[0m\u001b[0;34m\u001b[0m\u001b[0m\n\u001b[0m\u001b[1;32m   1369\u001b[0m \u001b[0;34m\u001b[0m\u001b[0m\n\u001b[1;32m   1370\u001b[0m \u001b[0;34m\u001b[0m\u001b[0m\n",
            "\u001b[0;32m~/.virtualenvs/SamiaVE/lib/python3.7/site-packages/dateutil/parser/_parser.py\u001b[0m in \u001b[0;36mparse\u001b[0;34m(self, timestr, default, ignoretz, tzinfos, **kwargs)\u001b[0m\n\u001b[1;32m    641\u001b[0m \u001b[0;34m\u001b[0m\u001b[0m\n\u001b[1;32m    642\u001b[0m         \u001b[0;32mif\u001b[0m \u001b[0mres\u001b[0m \u001b[0;32mis\u001b[0m \u001b[0;32mNone\u001b[0m\u001b[0;34m:\u001b[0m\u001b[0;34m\u001b[0m\u001b[0;34m\u001b[0m\u001b[0m\n\u001b[0;32m--> 643\u001b[0;31m             \u001b[0;32mraise\u001b[0m \u001b[0mParserError\u001b[0m\u001b[0;34m(\u001b[0m\u001b[0;34m\"Unknown string format: %s\"\u001b[0m\u001b[0;34m,\u001b[0m \u001b[0mtimestr\u001b[0m\u001b[0;34m)\u001b[0m\u001b[0;34m\u001b[0m\u001b[0;34m\u001b[0m\u001b[0m\n\u001b[0m\u001b[1;32m    644\u001b[0m \u001b[0;34m\u001b[0m\u001b[0m\n\u001b[1;32m    645\u001b[0m         \u001b[0;32mif\u001b[0m \u001b[0mlen\u001b[0m\u001b[0;34m(\u001b[0m\u001b[0mres\u001b[0m\u001b[0;34m)\u001b[0m \u001b[0;34m==\u001b[0m \u001b[0;36m0\u001b[0m\u001b[0;34m:\u001b[0m\u001b[0;34m\u001b[0m\u001b[0;34m\u001b[0m\u001b[0m\n",
            "\u001b[0;31mParserError\u001b[0m: Unknown string format: Recovered"
          ]
        }
      ],
      "source": [
        "# The following steps are used to create these new fields:\n",
        "\n",
        "# Creates information from the 'Date recorded' feature\n",
        "df['Year'] = pd.DatetimeIndex(df['Date reported']).year\n",
        "df['Month'] = pd.DatetimeIndex(df['Date reported']).month\n",
        "df['Day'] = pd.DatetimeIndex(df['Date reported']).day\n",
        "df['Day of Year'] = pd.DatetimeIndex(df['Date reported']).dayofyear\n",
        "df['Day of Week'] = pd.DatetimeIndex(df['Date reported']).weekday\n",
        "df['Quarter'] = pd.DatetimeIndex(df['Date reported']).quarter\n",
        "\n",
        "# Creates information from the newly created 'Date' feature\n",
        "# extract the week number\n",
        "df['Week number'] = df['ISO Date'].dt.isocalendar().week\n",
        "\n",
        "# Convert the week number from int32 to int64\n",
        "df['Week number'] = df['Week number'].astype('int')\n",
        "\n",
        "df"
      ]
    },
    {
      "cell_type": "code",
      "execution_count": null,
      "id": "88642350-3e5e-4404-add7-a61f8798b6ba",
      "metadata": {
        "id": "88642350-3e5e-4404-add7-a61f8798b6ba"
      },
      "outputs": [],
      "source": [
        "# Rearrange the columns\n",
        "# The 'ISO Date' is needed for making selections further in the notebook\n",
        "df = df[['Date reported', 'ISO Date', 'Year', 'Quarter', 'Month', 'Week number', 'Day', 'Day of Week', 'Day of Year', 'Alberta Health Services Zone', 'Gender', 'Age group', 'Case status', 'Case type']]\n",
        "\n",
        "df"
      ]
    },
    {
      "cell_type": "code",
      "execution_count": null,
      "id": "ce47d9ff-fc78-4e7e-af2a-96bbcae7d28b",
      "metadata": {
        "id": "ce47d9ff-fc78-4e7e-af2a-96bbcae7d28b",
        "outputId": "7608b4a0-ca20-441f-9266-bcc56fd57ba8"
      },
      "outputs": [
        {
          "name": "stdout",
          "output_type": "stream",
          "text": [
            "<class 'pandas.core.frame.DataFrame'>\n",
            "Index: 527898 entries, 1 to 527102\n",
            "Data columns (total 7 columns):\n",
            " #   Column                        Non-Null Count   Dtype         \n",
            "---  ------                        --------------   -----         \n",
            " 0   Date reported                 527898 non-null  object        \n",
            " 1   Alberta Health Services Zone  527893 non-null  object        \n",
            " 2   Gender                        527892 non-null  object        \n",
            " 3   Age group                     527896 non-null  object        \n",
            " 4   Case status                   527896 non-null  object        \n",
            " 5   Case type                     527896 non-null  object        \n",
            " 6   ISO Date                      527896 non-null  datetime64[ns]\n",
            "dtypes: datetime64[ns](1), object(6)\n",
            "memory usage: 32.2+ MB\n"
          ]
        }
      ],
      "source": [
        "# Review the object type of each feature\n",
        "df.info()"
      ]
    },
    {
      "cell_type": "markdown",
      "id": "1f8a184c-f10f-4740-9061-80f8eb148c6d",
      "metadata": {
        "id": "1f8a184c-f10f-4740-9061-80f8eb148c6d"
      },
      "source": [
        "### <font style = \"color:rgb(20, 53, 103)\" > **Creating additional data frames to help in visualizations** </font>\n",
        "\n",
        "Two additional data frames will be created, one that contains just the `Active` cases, as well as one that contains just the people who've died in Alberta:"
      ]
    },
    {
      "cell_type": "code",
      "execution_count": null,
      "id": "59065853-5bd4-4d46-a439-8d81f91003ad",
      "metadata": {
        "id": "59065853-5bd4-4d46-a439-8d81f91003ad"
      },
      "outputs": [],
      "source": [
        "# Creates a dataset of just the active cases to further explore\n",
        "df_active = df[df['Case status'] == 'Active']\n",
        "\n",
        "df_active"
      ]
    },
    {
      "cell_type": "code",
      "execution_count": null,
      "id": "cfc6440b-d9ba-4336-ad3f-aa425df876b0",
      "metadata": {
        "id": "cfc6440b-d9ba-4336-ad3f-aa425df876b0"
      },
      "outputs": [],
      "source": [
        "# Creates a dataset of just the people who have died from COVID-19\n",
        "df_fatal = df[df['Case status'] == 'Died']\n",
        "\n",
        "df_fatal"
      ]
    },
    {
      "cell_type": "markdown",
      "id": "7bc24bc1-68f6-4316-b39a-01b5cb07387d",
      "metadata": {
        "id": "7bc24bc1-68f6-4316-b39a-01b5cb07387d"
      },
      "source": [
        "### <font style = \"color:rgb(20, 53, 103)\" > **Creating automated title information** </font>\n",
        "\n",
        "[Plotly](https://plotly.com/python/) is capable of accepting list, dictionaries, and other custom data. This allows for Graph Titles to be updated automatically, making sure the information reported is current."
      ]
    },
    {
      "cell_type": "code",
      "execution_count": null,
      "id": "9037345f-30f3-482a-9e72-e64c6e45cca2",
      "metadata": {
        "id": "9037345f-30f3-482a-9e72-e64c6e45cca2"
      },
      "outputs": [],
      "source": [
        "# Get the total records of the data set, store in a variable\n",
        "total_records = df.shape[0]\n",
        "\n",
        "print('The total number of records in this dataset is: {:,}'.format(total_records))"
      ]
    },
    {
      "cell_type": "code",
      "execution_count": null,
      "id": "36ca9a73-1e6b-4497-b61b-8af2a24c4df4",
      "metadata": {
        "id": "36ca9a73-1e6b-4497-b61b-8af2a24c4df4"
      },
      "outputs": [],
      "source": [
        "# Stores the first date of recorded data in this data set\n",
        "first_date_reported = df['Date reported'].min()\n",
        "\n",
        "print('The first date that a case was reported in Alberta is: {:} (YYYY-MM-DD)'.format(first_date_reported)) "
      ]
    },
    {
      "cell_type": "code",
      "execution_count": null,
      "id": "b9223882-5594-469f-8eb0-97aea5c285f5",
      "metadata": {
        "id": "b9223882-5594-469f-8eb0-97aea5c285f5"
      },
      "outputs": [],
      "source": [
        "# Stores the latest date of recorded data in this data set\n",
        "current_date_reported = df['Date reported'].max()\n",
        "\n",
        "print('The most recently recorded date in this data set is: {:} (YYYY-MM-DD)'.format(current_date_reported)) "
      ]
    },
    {
      "cell_type": "markdown",
      "id": "6d92d339-269b-4597-99e0-4cd36770ce59",
      "metadata": {
        "id": "6d92d339-269b-4597-99e0-4cd36770ce59"
      },
      "source": [
        "**Converting date formats**\n",
        "\n",
        "As an option, you can also use the datetime function found in Python to convert a dates into a more readable format. The solution to this problem comes from this stackoverflow response: https://stackoverflow.com/questions/6288892/python-how-to-convert-datetime-format"
      ]
    },
    {
      "cell_type": "code",
      "execution_count": null,
      "id": "498eb4eb-25b5-4ae6-b78d-4498ef6f3ac7",
      "metadata": {
        "id": "498eb4eb-25b5-4ae6-b78d-4498ef6f3ac7"
      },
      "outputs": [],
      "source": [
        "# Store the result of this conversion into an object\n",
        "d = datetime.datetime.strptime(current_date_reported, '%Y-%m-%d') "
      ]
    },
    {
      "cell_type": "code",
      "execution_count": null,
      "id": "f74e593f-9e33-4253-9d7c-36053b90ad64",
      "metadata": {
        "id": "f74e593f-9e33-4253-9d7c-36053b90ad64"
      },
      "outputs": [],
      "source": [
        "# Formate the object\n",
        "data_set_date = d.strftime('%b %d,%Y')\n",
        "\n",
        "data_set_date"
      ]
    },
    {
      "cell_type": "markdown",
      "id": "eb204a72-62cb-4dc9-bf9c-d55f6a7e86d0",
      "metadata": {
        "id": "eb204a72-62cb-4dc9-bf9c-d55f6a7e86d0"
      },
      "source": [
        "**Generating an automated title**\n",
        "\n",
        "The following script will generate an automated title that will be used on some of the graphs. It's important to time stamp all information, since this information is fluid and can change day by day."
      ]
    },
    {
      "cell_type": "code",
      "execution_count": null,
      "id": "2aae95b6-9e41-4df5-9ce2-23ec12580b4d",
      "metadata": {
        "id": "2aae95b6-9e41-4df5-9ce2-23ec12580b4d"
      },
      "outputs": [],
      "source": [
        "# Create a general chart title\n",
        "General_title = f\"This data set is current to {data_set_date}. There are {total_records:,} total records cases so far\"\n",
        "\n",
        "General_title"
      ]
    },
    {
      "cell_type": "markdown",
      "id": "792a2a6f-94d8-41a4-8d14-7dc0b77bc36b",
      "metadata": {
        "id": "792a2a6f-94d8-41a4-8d14-7dc0b77bc36b"
      },
      "source": [
        "### <font style = \"color:rgb(20, 53, 103)\" > **Creating lists to for interactive data inspection** </font>\n",
        "\n",
        "The following lists will be used to interact with the data and can be used in any widgets:"
      ]
    },
    {
      "cell_type": "code",
      "execution_count": null,
      "id": "0005ea94-4d70-4c80-9e3f-3f35f6447b16",
      "metadata": {
        "id": "0005ea94-4d70-4c80-9e3f-3f35f6447b16"
      },
      "outputs": [],
      "source": [
        "# This list was already created above\n",
        "# It's being shown here as a reminder that we already\n",
        "# have a list that stores the name of all our features\n",
        "features"
      ]
    },
    {
      "cell_type": "code",
      "execution_count": null,
      "id": "b506778a-7c5b-4f97-a037-0414748d8a90",
      "metadata": {
        "id": "b506778a-7c5b-4f97-a037-0414748d8a90"
      },
      "outputs": [],
      "source": [
        "# Labels work best with categorical data. Although \"Date reported\" is technically a categorical \n",
        "# feature, it should be considered a continous value field.\n",
        "# Therefore, this list will exclude \"Date reported\" and re-arrange the feature names in order of \n",
        "# interest\n",
        "labels = [None, 'Case status', 'Age group', 'Alberta Health Services Zone', 'Gender', 'Case type']"
      ]
    },
    {
      "cell_type": "markdown",
      "id": "84fe8e87-e216-45a4-90dd-2dbec6e2ef17",
      "metadata": {
        "tags": [],
        "id": "84fe8e87-e216-45a4-90dd-2dbec6e2ef17"
      },
      "source": [
        "### <font style = \"color:rgb(20, 53, 103)\" > **Histograms** </font>\n",
        "\n",
        "[Histograms show the shape of your data](https://www.jmp.com/en_us/statistics-knowledge-portal/exploratory-data-analysis/histogram.html). Histograms help you see the center, spread and shape of a set of data. You can also use them as a visual tool to check for normality.\n",
        "\n",
        "You can learn more about histograms, and where to use them at [storytellingwithdata.com](https://www.storytellingwithdata.com/blog/2021/1/28/histograms-and-bar-charts) and the [Statistical Knowledge Portal](https://www.jmp.com/en_us/statistics-knowledge-portal/exploratory-data-analysis/histogram.html)"
      ]
    },
    {
      "cell_type": "markdown",
      "id": "8a79401b-1230-47f1-95c7-495065751b2d",
      "metadata": {
        "tags": [],
        "id": "8a79401b-1230-47f1-95c7-495065751b2d"
      },
      "source": [
        "#### <font style = \"color:rgb(20, 53, 103)\" > **Example 1 - Interactive Histograms** </font>\n",
        "\n",
        "The code below shows you how to construct a histogram using the [Plotly](https://plotly.com/python/) data visualization library. \n",
        "\n",
        "Refer to the [Histograms](https://plotly.com/python/histograms/) section of the Plotly website for more details.\n",
        "\n",
        "The histogram will allow you to explore each feature available in the data set:\n",
        "\n",
        "* Date reported\n",
        "* Alberta Health Services Zone\n",
        "* Gender\n",
        "* Age group\n",
        "* Case status\n",
        "* Case type\n",
        "\n",
        "This histogram will also let you choose a `label` for your data, and give you a better understanding of the data and distribution. The data will be presented in the way that [Plotly](https://plotly.com/python/) sorts it."
      ]
    },
    {
      "cell_type": "markdown",
      "id": "55e2e330-c33d-4578-bfde-9246c639541d",
      "metadata": {
        "id": "55e2e330-c33d-4578-bfde-9246c639541d"
      },
      "source": [
        "##### <font style = \"color:rgb(20, 53, 103)\" > **All Cases** </font>\n",
        "\n",
        "This is the histogram plot of the entire data set."
      ]
    },
    {
      "cell_type": "markdown",
      "id": "d3fd4214-1e5b-4f19-873d-bdb2174a33d8",
      "metadata": {
        "id": "d3fd4214-1e5b-4f19-873d-bdb2174a33d8"
      },
      "source": [
        "##### <font style = \"color:rgb(20, 53, 103)\" > **Update the General Title** </font>\n",
        "\n",
        "Update the title for this map:"
      ]
    },
    {
      "cell_type": "code",
      "execution_count": null,
      "id": "d6b2022f-287a-4590-9091-a5591a28a6ce",
      "metadata": {
        "id": "d6b2022f-287a-4590-9091-a5591a28a6ce"
      },
      "outputs": [],
      "source": [
        "# Create an object that stores the counts of active, recovered, and deaths in the current\n",
        "# Alberta COVID-19 data set\n",
        "case_status = df['Case status'].value_counts() \n",
        "\n",
        "case_status"
      ]
    },
    {
      "cell_type": "code",
      "execution_count": null,
      "id": "5091679c-ccb6-428e-9cc4-90ccc1201ce5",
      "metadata": {
        "id": "5091679c-ccb6-428e-9cc4-90ccc1201ce5"
      },
      "outputs": [],
      "source": [
        "# Break-out each these values into their own variables\n",
        "recovered = case_status.Recovered\n",
        "\n",
        "active = case_status.Active\n",
        "\n",
        "died = case_status.Died"
      ]
    },
    {
      "cell_type": "code",
      "execution_count": null,
      "id": "07c7c3c7-2119-46ea-9e75-51fbf20e462f",
      "metadata": {
        "id": "07c7c3c7-2119-46ea-9e75-51fbf20e462f"
      },
      "outputs": [],
      "source": [
        "# Create a general chart title\n",
        "General_title_all = f\"There have been {total_records:,} total cases in Alberta as of {data_set_date}.\"\n",
        "\n",
        "General_title_all"
      ]
    },
    {
      "cell_type": "markdown",
      "id": "90f7f8ad-b1ef-411b-8e40-7779d9ad06b9",
      "metadata": {
        "id": "90f7f8ad-b1ef-411b-8e40-7779d9ad06b9"
      },
      "source": [
        "##### <font style = \"color:rgb(20, 53, 103)\" > **Interactive Widgets** </font>\n",
        "\n",
        "These interactive widgest will be assigned to work with the `All Cases` dataset only. You need to do this, otherwise your widgets will sync and upate all graphics associated to it."
      ]
    },
    {
      "cell_type": "code",
      "execution_count": null,
      "id": "18a0f831-b88e-4ee2-ad9a-96cc89db112e",
      "metadata": {
        "id": "18a0f831-b88e-4ee2-ad9a-96cc89db112e"
      },
      "outputs": [],
      "source": [
        "# This checkbox will allow you to enable / disable\n",
        "# the X-Axis going onto a log scale\n",
        "# default is FALSE\n",
        "log_scaleX_allCases = widgets.Checkbox(value = False,\n",
        "                                       description = 'Log X scale',\n",
        "                                       disabled = False,\n",
        "                                       indent = False\n",
        "                                      )"
      ]
    },
    {
      "cell_type": "code",
      "execution_count": null,
      "id": "21a878c7-e5be-423a-bc9a-afcee692b8b7",
      "metadata": {
        "id": "21a878c7-e5be-423a-bc9a-afcee692b8b7"
      },
      "outputs": [],
      "source": [
        "# This checkbox will allow you to enable / disable\n",
        "# the Y-Axis going onto a log scale\n",
        "# default is FALSE\n",
        "log_scaleY_allCases = widgets.Checkbox(value = False,\n",
        "                                       description = 'Log Y scale',\n",
        "                                       disabled = False,\n",
        "                                       indent = False\n",
        "                                      )"
      ]
    },
    {
      "cell_type": "code",
      "execution_count": null,
      "id": "c39d3f4f-6a34-499f-8feb-205a637d3fac",
      "metadata": {
        "id": "c39d3f4f-6a34-499f-8feb-205a637d3fac"
      },
      "outputs": [],
      "source": [
        "# This radiobutton holds options that \n",
        "# allows us to understand the distribution\n",
        "# using boxplots, violon, rug, etc...\n",
        "\n",
        "marginals_allCases = widgets.RadioButtons(options = [None, 'box', 'violin', 'rug'])  # 'histogram' Histogram is excluded from this list"
      ]
    },
    {
      "cell_type": "code",
      "execution_count": null,
      "id": "04b61ec1-db49-4b33-9342-d1a0398631f5",
      "metadata": {
        "id": "04b61ec1-db49-4b33-9342-d1a0398631f5"
      },
      "outputs": [],
      "source": [
        "# this radio button holds options that allows\n",
        "# you to chose if the histgram is stacked (relative)\n",
        "# grouped, or overlayed.\n",
        "groupings_allCases = widgets.RadioButtons(options = ['relative', 'group', 'overlay']) # Declare the set of radio buttons and provide options"
      ]
    },
    {
      "cell_type": "code",
      "execution_count": null,
      "id": "b51c7234-3164-47f4-9d52-c7c365109cfd",
      "metadata": {
        "id": "b51c7234-3164-47f4-9d52-c7c365109cfd",
        "outputId": "b2bee685-5a41-458a-add6-56a55a7eac43"
      },
      "outputs": [
        {
          "ename": "NameError",
          "evalue": "name 'marginals_allCases' is not defined",
          "output_type": "error",
          "traceback": [
            "\u001b[0;31m---------------------------------------------------------------------------\u001b[0m",
            "\u001b[0;31mNameError\u001b[0m                                 Traceback (most recent call last)",
            "\u001b[0;32m/tmp/ipykernel_3071/968209975.py\u001b[0m in \u001b[0;36m<module>\u001b[0;34m\u001b[0m\n\u001b[1;32m      3\u001b[0m \u001b[0;31m# this function\u001b[0m\u001b[0;34m\u001b[0m\u001b[0;34m\u001b[0m\u001b[0;34m\u001b[0m\u001b[0m\n\u001b[1;32m      4\u001b[0m \u001b[0;34m@\u001b[0m\u001b[0mwidgets\u001b[0m\u001b[0;34m.\u001b[0m\u001b[0minteract\u001b[0m\u001b[0;34m\u001b[0m\u001b[0;34m\u001b[0m\u001b[0m\n\u001b[0;32m----> 5\u001b[0;31m \u001b[0;32mdef\u001b[0m \u001b[0mhist_inspect\u001b[0m\u001b[0;34m(\u001b[0m\u001b[0mdistribution\u001b[0m \u001b[0;34m=\u001b[0m \u001b[0mmarginals_allCases\u001b[0m\u001b[0;34m,\u001b[0m \u001b[0mgrouping\u001b[0m \u001b[0;34m=\u001b[0m \u001b[0mgroupings_allCases\u001b[0m\u001b[0;34m,\u001b[0m \u001b[0mlabel\u001b[0m \u001b[0;34m=\u001b[0m \u001b[0mlabels\u001b[0m\u001b[0;34m,\u001b[0m \u001b[0mfeature\u001b[0m \u001b[0;34m=\u001b[0m \u001b[0mfeatures\u001b[0m\u001b[0;34m,\u001b[0m \u001b[0mlog_x\u001b[0m \u001b[0;34m=\u001b[0m \u001b[0mlog_scaleX_allCases\u001b[0m\u001b[0;34m,\u001b[0m \u001b[0mlog_y\u001b[0m \u001b[0;34m=\u001b[0m \u001b[0mlog_scaleY_allCases\u001b[0m\u001b[0;34m)\u001b[0m\u001b[0;34m:\u001b[0m\u001b[0;34m\u001b[0m\u001b[0;34m\u001b[0m\u001b[0m\n\u001b[0m\u001b[1;32m      6\u001b[0m \u001b[0;34m\u001b[0m\u001b[0m\n\u001b[1;32m      7\u001b[0m     fig = px.histogram(df, \n",
            "\u001b[0;31mNameError\u001b[0m: name 'marginals_allCases' is not defined"
          ]
        }
      ],
      "source": [
        "# This widget allows you to create an interactive histogram.\n",
        "# Notice how the ipywidget objects are being passed as parameters into \n",
        "# this function\n",
        "@widgets.interact\n",
        "def hist_inspect(distribution = marginals_allCases, grouping = groupings_allCases, label = labels, feature = features, log_x = log_scaleX_allCases, log_y = log_scaleY_allCases):\n",
        "    \n",
        "    fig = px.histogram(df, \n",
        "                       x = feature,\n",
        "                       color = label,\n",
        "                       marginal = distribution, # can be 'rug', `box`, `violin`\n",
        "                       barmode = grouping,\n",
        "                       log_x = log_x,\n",
        "                       log_y = log_y,\n",
        "                       hover_data = df.columns,\n",
        "                            \n",
        "                       color_discrete_map = color_discrete_map,\n",
        "                       \n",
        "                       #category_orders = category_orders,\n",
        "                        \n",
        "                       color_discrete_sequence = px.colors.qualitative.Light24,\n",
        "                       width = 1500, \n",
        "                       height = 800\n",
        "                      )\n",
        "    \n",
        "    fig.update_layout(title = General_title_all,\n",
        "                      font = dict(family = \"Courier New, monospace\",\n",
        "                                  size = 15,\n",
        "                                  color = \"Black\"\n",
        "                                 )\n",
        "                      )\n",
        "    fig.show()"
      ]
    },
    {
      "cell_type": "markdown",
      "id": "a9c39071-4319-4737-b932-f21394b8e66e",
      "metadata": {
        "id": "a9c39071-4319-4737-b932-f21394b8e66e"
      },
      "source": [
        "##### <font style = \"color:rgb(20, 53, 103)\" > **Active Cases** </font>\n",
        "\n",
        "This is the histogram plot of the entire the currently active cases."
      ]
    },
    {
      "cell_type": "markdown",
      "id": "58738b29-0553-44be-83eb-7a0226da1dcd",
      "metadata": {
        "id": "58738b29-0553-44be-83eb-7a0226da1dcd"
      },
      "source": [
        "##### <font style = \"color:rgb(20, 53, 103)\" > **Interactive Widgets** </font>\n",
        "\n",
        "These interactive widgest will be assigned to work with the \"Active Cases\" dataset only. You need to do this, otherwise your widgets will sync and upate all graphics associated to it."
      ]
    },
    {
      "cell_type": "code",
      "execution_count": null,
      "id": "85f6aae6-7a0c-476b-9be3-0639bbddb4c9",
      "metadata": {
        "id": "85f6aae6-7a0c-476b-9be3-0639bbddb4c9"
      },
      "outputs": [],
      "source": [
        "# Create a general chart title\n",
        "General_title_active = f\"There are {active:,} active cases in Alberta as of {data_set_date}.\"\n",
        "\n",
        "General_title_active"
      ]
    },
    {
      "cell_type": "code",
      "execution_count": null,
      "id": "42d6b94d-fca1-43a4-afc4-1a06c7407f7e",
      "metadata": {
        "id": "42d6b94d-fca1-43a4-afc4-1a06c7407f7e"
      },
      "outputs": [],
      "source": [
        "# This checkbox will allow you to enable / disable\n",
        "# the X-Axis going onto a log scale\n",
        "# default is FALSE\n",
        "log_scaleX_activeCases = widgets.Checkbox(value = False,\n",
        "                                         description = 'Log X scale',\n",
        "                                         disabled = False,\n",
        "                                         indent = False\n",
        "                                        )"
      ]
    },
    {
      "cell_type": "code",
      "execution_count": null,
      "id": "0fd88fa9-626b-4243-8f2f-9e51b76470f6",
      "metadata": {
        "id": "0fd88fa9-626b-4243-8f2f-9e51b76470f6"
      },
      "outputs": [],
      "source": [
        "# This checkbox will allow you to enable / disable\n",
        "# the Y-Axis going onto a log scale\n",
        "# default is FALSE\n",
        "log_scaleY_activeCases = widgets.Checkbox(value = False,\n",
        "                                       description = 'Log Y scale',\n",
        "                                       disabled = False,\n",
        "                                       indent = False\n",
        "                                      )"
      ]
    },
    {
      "cell_type": "code",
      "execution_count": null,
      "id": "3e4490d6-058c-4df5-8241-3a7d288c28d9",
      "metadata": {
        "id": "3e4490d6-058c-4df5-8241-3a7d288c28d9"
      },
      "outputs": [],
      "source": [
        "# This radiobutton holds options that \n",
        "# allows us to understand the distribution\n",
        "# using boxplots, violon, rug, etc...\n",
        "\n",
        "marginals_activeCases = widgets.RadioButtons(options = [None, 'box', 'violin', 'rug'])  # 'histogram' Histogram is excluded from this list"
      ]
    },
    {
      "cell_type": "code",
      "execution_count": null,
      "id": "56844be8-4c77-4722-87ad-855617987eb7",
      "metadata": {
        "id": "56844be8-4c77-4722-87ad-855617987eb7"
      },
      "outputs": [],
      "source": [
        "# this radio button holds options that allows\n",
        "# you to chose if the histgram is stacked (relative)\n",
        "# grouped, or overlayed.\n",
        "groupings_activeCases = widgets.RadioButtons(options = ['relative', 'group', 'overlay']) # Declare the set of radio buttons and provide options"
      ]
    },
    {
      "cell_type": "code",
      "execution_count": null,
      "id": "cc28c26e-724b-427c-95a2-42d2fa9b01c1",
      "metadata": {
        "id": "cc28c26e-724b-427c-95a2-42d2fa9b01c1"
      },
      "outputs": [],
      "source": [
        "# This widget allows you to create an interactive histogram.\n",
        "# Notice how the ipywidget objects are being passed as parameters into \n",
        "# this function\n",
        "@widgets.interact\n",
        "def hist_inspect(distribution = marginals_activeCases, grouping = groupings_activeCases, label = labels, feature = features, log_x = log_scaleX_activeCases, log_y = log_scaleY_activeCases):\n",
        "    \n",
        "    fig = px.histogram(df_active, \n",
        "                       x = feature,\n",
        "                       color = label,\n",
        "                       marginal = distribution, # can be 'rug', `box`, `violin`\n",
        "                       barmode = grouping,\n",
        "                       log_x = log_x,\n",
        "                       log_y = log_y,\n",
        "                       hover_data = df.columns,\n",
        "                            \n",
        "                       color_discrete_map = color_discrete_map,\n",
        "                       \n",
        "                       #category_orders = category_orders,\n",
        "                        \n",
        "                       color_discrete_sequence = px.colors.qualitative.Light24,\n",
        "                       width = 1500, \n",
        "                       height = 800\n",
        "                      )\n",
        "    \n",
        "    fig.update_layout(title = General_title_active,\n",
        "                      font = dict(family = \"Courier New, monospace\",\n",
        "                                  size = 15,\n",
        "                                  color = \"Black\"\n",
        "                                 )\n",
        "                      )\n",
        "    fig.show()"
      ]
    },
    {
      "cell_type": "markdown",
      "id": "c9ab241c-7f7e-4ecf-8278-a4e78e011407",
      "metadata": {
        "id": "c9ab241c-7f7e-4ecf-8278-a4e78e011407"
      },
      "source": [
        "##### <font style = \"color:rgb(20, 53, 103)\" > **Deaths** </font>\n",
        "\n",
        "This is the histogram plot of the people who've died of COVID-19 so far in Alberta:"
      ]
    },
    {
      "cell_type": "code",
      "execution_count": null,
      "id": "3bbd005c-4cfd-4f1e-bbff-48a69935f2b8",
      "metadata": {
        "id": "3bbd005c-4cfd-4f1e-bbff-48a69935f2b8"
      },
      "outputs": [],
      "source": [
        "# Create a general chart title\n",
        "General_title_deaths = f\"There have been {died:,} deaths in Alberta as of {data_set_date}.\"\n",
        "\n",
        "General_title_deaths"
      ]
    },
    {
      "cell_type": "code",
      "execution_count": null,
      "id": "c6ce08d2-22cc-4f0d-9f8f-936a127dcc78",
      "metadata": {
        "id": "c6ce08d2-22cc-4f0d-9f8f-936a127dcc78"
      },
      "outputs": [],
      "source": [
        "# This checkbox will allow you to enable / disable\n",
        "# the X-Axis going onto a log scale\n",
        "# default is FALSE\n",
        "log_scaleX_activeDeaths = widgets.Checkbox(value = False,\n",
        "                                           description = 'Log X scale',\n",
        "                                           disabled = False,\n",
        "                                           indent = False\n",
        "                                           )"
      ]
    },
    {
      "cell_type": "code",
      "execution_count": null,
      "id": "9a8bb7f1-aace-41af-9ef4-e73674cd0852",
      "metadata": {
        "id": "9a8bb7f1-aace-41af-9ef4-e73674cd0852"
      },
      "outputs": [],
      "source": [
        "# This checkbox will allow you to enable / disable\n",
        "# the Y-Axis going onto a log scale\n",
        "# default is FALSE\n",
        "log_scaleY_activeDeaths = widgets.Checkbox(value = False,\n",
        "                                           description = 'Log Y scale',\n",
        "                                           disabled = False,\n",
        "                                           indent = False\n",
        "                                           )"
      ]
    },
    {
      "cell_type": "code",
      "execution_count": null,
      "id": "962587dd-6ef5-4367-b8c3-d08a22bd4ff3",
      "metadata": {
        "id": "962587dd-6ef5-4367-b8c3-d08a22bd4ff3"
      },
      "outputs": [],
      "source": [
        "# This radiobutton holds options that \n",
        "# allows us to understand the distribution\n",
        "# using boxplots, violon, rug, etc...\n",
        "marginals_activeDeaths = widgets.RadioButtons(options = [None, 'box', 'violin', 'rug'])  # 'histogram' Histogram is excluded from this list"
      ]
    },
    {
      "cell_type": "code",
      "execution_count": null,
      "id": "d61ecdc4-2843-4aca-96ef-df3bb778ead8",
      "metadata": {
        "id": "d61ecdc4-2843-4aca-96ef-df3bb778ead8"
      },
      "outputs": [],
      "source": [
        "# this radio button holds options that allows\n",
        "# you to chose if the histgram is stacked (relative)\n",
        "# grouped, or overlayed.\n",
        "groupings_activeDeaths = widgets.RadioButtons(options = ['relative', 'group', 'overlay']) # Declare the set of radio buttons and provide options"
      ]
    },
    {
      "cell_type": "code",
      "execution_count": null,
      "id": "04b464f1-7e86-458e-b953-ff6c048d46b7",
      "metadata": {
        "id": "04b464f1-7e86-458e-b953-ff6c048d46b7"
      },
      "outputs": [],
      "source": [
        "# This widget allows you to create an interactive histogram.\n",
        "# Notice how the ipywidget objects are being passed as parameters into \n",
        "# this function\n",
        "@widgets.interact\n",
        "def hist_inspect(distribution = marginals_activeDeaths, grouping = groupings_activeDeaths, label = labels, feature = features, log_x = log_scaleX_activeDeaths, log_y = log_scaleY_activeDeaths):\n",
        "    \n",
        "    fig = px.histogram(df_fatal, \n",
        "                       x = feature,\n",
        "                       color = label,\n",
        "                       marginal = distribution, # can be 'rug', `box`, `violin`\n",
        "                       barmode = grouping,\n",
        "                       log_x = log_x,\n",
        "                       log_y = log_y,\n",
        "                       hover_data = df.columns,\n",
        "                            \n",
        "                       color_discrete_map = color_discrete_map,\n",
        "                       \n",
        "                       #category_orders = category_orders,\n",
        "                        \n",
        "                       color_discrete_sequence = px.colors.qualitative.Light24,\n",
        "                       width = 1500, \n",
        "                       height = 800\n",
        "                      )\n",
        "    \n",
        "    fig.update_layout(title = General_title_deaths,\n",
        "                      font = dict(family = \"Courier New, monospace\",\n",
        "                                  size = 15,\n",
        "                                  color = \"Black\"\n",
        "                                 )\n",
        "                      )\n",
        "    fig.show()"
      ]
    },
    {
      "cell_type": "markdown",
      "id": "c25e8e10-ca06-4bf3-a00b-d462c07b4a5a",
      "metadata": {
        "id": "c25e8e10-ca06-4bf3-a00b-d462c07b4a5a"
      },
      "source": [
        "#### <font style = \"color:rgb(20, 53, 103)\" > **Example 2 - Sorted Histogram** </font>\n",
        "\n",
        "This code will use a specific sorting order to the data, and therefore the `marginal` are not going to always provide meaningful information. Therefore, they will be excluded from these graphs.\n",
        "Refer to the [Histograms](https://plotly.com/python/histograms/) section of the Plotly website for more details.\n",
        "\n",
        "When data sorting is applied, the [Histograms](https://plotly.com/python/histograms/) acts more like a [Bar chart](https://plotly.com/python/bar-charts/). Distribution information does not work on manually sorted data."
      ]
    },
    {
      "cell_type": "markdown",
      "id": "84ecc6a4-1e00-4070-b455-13a84156811d",
      "metadata": {
        "id": "84ecc6a4-1e00-4070-b455-13a84156811d"
      },
      "source": [
        "##### <font style = \"color:rgb(20, 53, 103)\" > **All Cases** </font>\n",
        "\n",
        "This is the histogram plot of the entire data set."
      ]
    },
    {
      "cell_type": "code",
      "execution_count": null,
      "id": "84e35695-a95e-497a-92e7-45474ee12806",
      "metadata": {
        "id": "84e35695-a95e-497a-92e7-45474ee12806"
      },
      "outputs": [],
      "source": [
        "# This checkbox will allow you to enable / disable\n",
        "# the X-Axis going onto a log scale\n",
        "# default is FALSE\n",
        "log_scaleX_allCases1 = widgets.Checkbox(value = False,\n",
        "                                        description = 'Log X scale',\n",
        "                                        disabled = False,\n",
        "                                        indent = False\n",
        "                                       )"
      ]
    },
    {
      "cell_type": "code",
      "execution_count": null,
      "id": "1cefc807-6b66-46ca-a79b-3f54e8557c31",
      "metadata": {
        "id": "1cefc807-6b66-46ca-a79b-3f54e8557c31"
      },
      "outputs": [],
      "source": [
        "# This checkbox will allow you to enable / disable\n",
        "# the Y-Axis going onto a log scale\n",
        "# default is FALSE\n",
        "log_scaleY_allCases1 = widgets.Checkbox(value = False,\n",
        "                                        description = 'Log Y scale',\n",
        "                                        disabled = False,\n",
        "                                        indent = False\n",
        "                                       )"
      ]
    },
    {
      "cell_type": "code",
      "execution_count": null,
      "id": "50db47df-2ab7-44f9-8278-b83b9b697f32",
      "metadata": {
        "id": "50db47df-2ab7-44f9-8278-b83b9b697f32"
      },
      "outputs": [],
      "source": [
        "# this radio button holds options that allows\n",
        "# you to chose if the histgram is stacked (relative)\n",
        "# grouped, or overlayed.\n",
        "groupings_allCases1 = widgets.RadioButtons(options = ['relative', 'group', 'overlay']) # Declare the set of radio buttons and provide options"
      ]
    },
    {
      "cell_type": "code",
      "execution_count": null,
      "id": "9cf915e8-737b-46eb-9899-a245dd58f5dd",
      "metadata": {
        "id": "9cf915e8-737b-46eb-9899-a245dd58f5dd"
      },
      "outputs": [],
      "source": [
        "# This widget allows you to create a histogram, like the ones produces in the previous notebook.\n",
        "# You can change the feature, along with \n",
        "@widgets.interact\n",
        "def hist_inspect(grouping = groupings_allCases1, label = labels, feature = features, log_x = log_scaleX_allCases1, log_y = log_scaleY_allCases1):\n",
        "    \n",
        "    fig = px.histogram(df, \n",
        "                       x = feature,\n",
        "                       color = label,\n",
        "                       #marginal = distribution, # can be 'rug', `box`, `violin`\n",
        "                       barmode = grouping,\n",
        "                       log_x = log_x,\n",
        "                       log_y = log_y,\n",
        "                       hover_data = df.columns,\n",
        "                            \n",
        "                       color_discrete_map = color_discrete_map,\n",
        "                       \n",
        "                       category_orders = category_orders,\n",
        "                        \n",
        "                       color_discrete_sequence = px.colors.qualitative.Light24,\n",
        "                       width = 1500, \n",
        "                       height = 800\n",
        "                      )\n",
        "    \n",
        "    fig.update_layout(title = General_title_all,\n",
        "                      font = dict(family = \"Courier New, monospace\",\n",
        "                                  size = 15,\n",
        "                                  color = \"Black\"\n",
        "                                 )\n",
        "                      )\n",
        "    fig.show()"
      ]
    },
    {
      "cell_type": "markdown",
      "id": "645d3c88-4ccc-4510-9819-3d8e4f26853b",
      "metadata": {
        "id": "645d3c88-4ccc-4510-9819-3d8e4f26853b"
      },
      "source": [
        "##### <font style = \"color:rgb(20, 53, 103)\" > **Active Cases** </font>\n",
        "\n",
        "This is the histogram plot of the entire the currently active cases."
      ]
    },
    {
      "cell_type": "code",
      "execution_count": null,
      "id": "c2f45acd-37d5-447d-8f62-cb57780f0984",
      "metadata": {
        "id": "c2f45acd-37d5-447d-8f62-cb57780f0984"
      },
      "outputs": [],
      "source": [
        "# Create a general chart title\n",
        "General_title_active = f\"There are {active:,} currently active cases in Alberta as of {data_set_date}.\"\n",
        "\n",
        "General_title_active"
      ]
    },
    {
      "cell_type": "code",
      "execution_count": null,
      "id": "dc6c2447-b86e-446d-8526-b9bd71ace452",
      "metadata": {
        "id": "dc6c2447-b86e-446d-8526-b9bd71ace452"
      },
      "outputs": [],
      "source": [
        "# Labels work best with categorical data. Although \"Date reported\" is technically a categorical \n",
        "# feature, it should be considered a continous value field.\n",
        "# Therefore, this list will exclude \"Date reported\" and re-arrange the feature names in order of \n",
        "# interest\n",
        "\n",
        "labels = [None, 'Case status', 'Age group', 'Alberta Health Services Zone', 'Gender', 'Case type']"
      ]
    },
    {
      "cell_type": "code",
      "execution_count": null,
      "id": "8e6eecd1-4344-404a-942d-6d03c1095bfa",
      "metadata": {
        "id": "8e6eecd1-4344-404a-942d-6d03c1095bfa"
      },
      "outputs": [],
      "source": [
        "# This checkbox will allow you to enable / disable\n",
        "# the X-Axis going onto a log scale\n",
        "# default is FALSE\n",
        "log_scaleX_activeCases1 = widgets.Checkbox(value = False,\n",
        "                                         description = 'Log X scale',\n",
        "                                         disabled = False,\n",
        "                                         indent = False\n",
        "                                        )"
      ]
    },
    {
      "cell_type": "code",
      "execution_count": null,
      "id": "0f4a4205-be88-4dbf-9407-2bb7235a9f3b",
      "metadata": {
        "id": "0f4a4205-be88-4dbf-9407-2bb7235a9f3b"
      },
      "outputs": [],
      "source": [
        "# This checkbox will allow you to enable / disable\n",
        "# the Y-Axis going onto a log scale\n",
        "# default is FALSE\n",
        "log_scaleY_activeCases1 = widgets.Checkbox(value = False,\n",
        "                                       description = 'Log Y scale',\n",
        "                                       disabled = False,\n",
        "                                       indent = False\n",
        "                                      )"
      ]
    },
    {
      "cell_type": "code",
      "execution_count": null,
      "id": "63fa322a-80d1-4261-9427-595615b05837",
      "metadata": {
        "id": "63fa322a-80d1-4261-9427-595615b05837"
      },
      "outputs": [],
      "source": [
        "# this radio button holds options that allows\n",
        "# you to chose if the histgram is stacked (relative)\n",
        "# grouped, or overlayed.\n",
        "groupings_activeCases1 = widgets.RadioButtons(options = ['relative', 'group', 'overlay']) # Declare the set of radio buttons and provide options"
      ]
    },
    {
      "cell_type": "code",
      "execution_count": null,
      "id": "e3781233-75af-4d01-ac4f-c3eda10565ed",
      "metadata": {
        "id": "e3781233-75af-4d01-ac4f-c3eda10565ed"
      },
      "outputs": [],
      "source": [
        "# This widget allows you to create a histogram, like the ones produces in the previous notebook.\n",
        "# You can change the feature, along with \n",
        "@widgets.interact\n",
        "def hist_inspect(grouping = groupings_activeCases1, label = labels, feature = features, log_x = log_scaleX_activeCases1, log_y = log_scaleY_activeCases1):\n",
        "    \n",
        "    fig = px.histogram(df_active, \n",
        "                       x = feature,\n",
        "                       color = label,\n",
        "                       #marginal = distribution, # can be 'rug', `box`, `violin`\n",
        "                       barmode = grouping,\n",
        "                       log_x = log_x,\n",
        "                       log_y = log_y,\n",
        "                       hover_data = df.columns,\n",
        "                            \n",
        "                       color_discrete_map = color_discrete_map,\n",
        "                       \n",
        "                       category_orders = category_orders,\n",
        "                        \n",
        "                       color_discrete_sequence = px.colors.qualitative.Light24,\n",
        "                       width = 1500, \n",
        "                       height = 800\n",
        "                      )\n",
        "    \n",
        "    fig.update_layout(title = General_title_active,\n",
        "                      font = dict(family = \"Courier New, monospace\",\n",
        "                                  size = 15,\n",
        "                                  color = \"Black\"\n",
        "                                 )\n",
        "                      )\n",
        "    fig.show()"
      ]
    },
    {
      "cell_type": "markdown",
      "id": "ce104e0d-1727-426f-8965-c3b1258effe0",
      "metadata": {
        "tags": [],
        "id": "ce104e0d-1727-426f-8965-c3b1258effe0"
      },
      "source": [
        "##### <font style = \"color:rgb(20, 53, 103)\" > **Deaths** </font>\n",
        "\n",
        "This is the histogram plot of the people who've died of COVID-19 so far in Alberta:"
      ]
    },
    {
      "cell_type": "code",
      "execution_count": null,
      "id": "82d8c9e4-eb6c-4ba5-a805-01a365d3e293",
      "metadata": {
        "id": "82d8c9e4-eb6c-4ba5-a805-01a365d3e293"
      },
      "outputs": [],
      "source": [
        "# Create a general chart title\n",
        "General_title_deaths = f\"There have been {died:,} deaths in Alberta as of {data_set_date}.\"\n",
        "\n",
        "General_title_deaths"
      ]
    },
    {
      "cell_type": "code",
      "execution_count": null,
      "id": "7a926c4a-b38e-4134-b1ec-4ee8f7042a45",
      "metadata": {
        "id": "7a926c4a-b38e-4134-b1ec-4ee8f7042a45"
      },
      "outputs": [],
      "source": [
        "# This checkbox will allow you to enable / disable\n",
        "# the X-Axis going onto a log scale\n",
        "# default is FALSE\n",
        "log_scaleX_activeDeaths1 = widgets.Checkbox(value = False,\n",
        "                                            description = 'Log X scale',\n",
        "                                            disabled = False,\n",
        "                                            indent = False\n",
        "                                            )"
      ]
    },
    {
      "cell_type": "code",
      "execution_count": null,
      "id": "5cda0cb3-a84d-4c85-8ee1-6cad107c5498",
      "metadata": {
        "id": "5cda0cb3-a84d-4c85-8ee1-6cad107c5498"
      },
      "outputs": [],
      "source": [
        "# This checkbox will allow you to enable / disable\n",
        "# the Y-Axis going onto a log scale\n",
        "# default is FALSE\n",
        "log_scaleY_activeDeaths1 = widgets.Checkbox(value = False,\n",
        "                                            description = 'Log Y scale',\n",
        "                                            disabled = False,\n",
        "                                            indent = False\n",
        "                                            )"
      ]
    },
    {
      "cell_type": "code",
      "execution_count": null,
      "id": "d6f458cf-15f9-401d-a3f6-3e0087c237e1",
      "metadata": {
        "id": "d6f458cf-15f9-401d-a3f6-3e0087c237e1"
      },
      "outputs": [],
      "source": [
        "# this radio button holds options that allows\n",
        "# you to chose if the histgram is stacked (relative)\n",
        "# grouped, or overlayed.\n",
        "groupings_activeDeaths1 = widgets.RadioButtons(options = ['relative', 'group', 'overlay']) # Declare the set of radio buttons and provide options"
      ]
    },
    {
      "cell_type": "code",
      "execution_count": null,
      "id": "ae7c1e7b-64c4-41c9-9d9f-597f8e820bec",
      "metadata": {
        "id": "ae7c1e7b-64c4-41c9-9d9f-597f8e820bec"
      },
      "outputs": [],
      "source": [
        "# This widget allows you to create a histogram, like the ones produces in the previous notebook.\n",
        "# You can change the feature, along with \n",
        "@widgets.interact\n",
        "def hist_inspect(grouping = groupings_activeDeaths1, label = labels, feature = features, log_x = log_scaleX_activeDeaths1, log_y = log_scaleY_activeDeaths1):\n",
        "    \n",
        "    fig = px.histogram(df_fatal, \n",
        "                       x = feature,\n",
        "                       color = label,\n",
        "                       #marginal = distribution, # can be 'rug', `box`, `violin`\n",
        "                       barmode = grouping,\n",
        "                       log_x = log_x,\n",
        "                       log_y = log_y,\n",
        "                       hover_data = df.columns,\n",
        "                            \n",
        "                       color_discrete_map = color_discrete_map,\n",
        "                       \n",
        "                       category_orders = category_orders,\n",
        "                        \n",
        "                       color_discrete_sequence = px.colors.qualitative.Light24,\n",
        "                       width = 1500, \n",
        "                       height = 800\n",
        "                      )\n",
        "    \n",
        "    fig.update_layout(title = General_title_deaths,\n",
        "                      font = dict(family = \"Courier New, monospace\",\n",
        "                                  size = 15,\n",
        "                                  color = \"Black\"\n",
        "                                 )\n",
        "                      )\n",
        "    fig.show()"
      ]
    },
    {
      "cell_type": "markdown",
      "id": "e68713f9-3774-476f-997f-f3af6aeb94a0",
      "metadata": {
        "id": "e68713f9-3774-476f-997f-f3af6aeb94a0"
      },
      "source": [
        "### <font style = \"color:rgb(20, 53, 103)\" > **Pie-Charts** </font>\n",
        "\n",
        "The purpose of a pie chart is to show you [a parts-to-whole relationship for categorical or nominal data](https://www.jmp.com/en_us/statistics-knowledge-portal/exploratory-data-analysis/pie-chart.html). Pie charts work best with [categorical data](http://www.stat.yale.edu/Courses/1997-98/101/catdat.htm). Pie charts should not be used with [continous data](https://www.mathsisfun.com/definitions/continuous-data.html).\n",
        "\n",
        "You can learn more about pie charts, and where to use them at [storytellingwithdata.com](https://www.storytellingwithdata.com/blog/2020/5/14/what-is-a-pie-chart), and the [Statistical Knowledge Portal](https://www.jmp.com/en_us/statistics-knowledge-portal/exploratory-data-analysis/pie-chart.html)\n",
        "\n",
        "When performing `Descriptive Analytics`, pie-charts can help give you a sense of the balance of your data."
      ]
    },
    {
      "cell_type": "markdown",
      "id": "1125f8b2-adfa-41e8-a372-5f14de95defe",
      "metadata": {
        "id": "1125f8b2-adfa-41e8-a372-5f14de95defe"
      },
      "source": [
        "#### <font style = \"color:rgb(20, 53, 103)\" > **Example 1 - Creating a customized Pie-Chart using Plotly Graph Object (GO)** </font>\n",
        "\n",
        "The code below shows you how to construct a custom graph object `go` object using Plotly. To get a better understanding of how to use Plotly Pie Charts, visit the plotly website: https://plotly.com/python/pie-charts/ "
      ]
    },
    {
      "cell_type": "code",
      "execution_count": null,
      "id": "80610788-9908-40a7-b81a-f9047e0ca3cd",
      "metadata": {
        "id": "80610788-9908-40a7-b81a-f9047e0ca3cd"
      },
      "outputs": [],
      "source": [
        "# Create a general chart title\n",
        "General_title_goPie = f\"{total_records:,} recorded cases as of {data_set_date}.\"\n",
        "\n",
        "General_title_goPie"
      ]
    },
    {
      "cell_type": "code",
      "execution_count": null,
      "id": "42f24b75-cfe1-4508-a98c-4017aa9cdce5",
      "metadata": {
        "id": "42f24b75-cfe1-4508-a98c-4017aa9cdce5"
      },
      "outputs": [],
      "source": [
        "# Sets the colors that will be used when graphing\n",
        "# You do this when you want specific colours to be used in your labels.\n",
        "\n",
        "colors = ['Green', 'Yellow', 'Red']"
      ]
    },
    {
      "cell_type": "code",
      "execution_count": null,
      "id": "8f672979-2e94-4753-afc5-d13d361d68e0",
      "metadata": {
        "id": "8f672979-2e94-4753-afc5-d13d361d68e0"
      },
      "outputs": [],
      "source": [
        "# Identify the different labels of the pie-chart\n",
        "# For this data set, the labels are going to be the values located in the \"Case status\"\n",
        "# feature\n",
        "\n",
        "labels_go = ['Recovered','Active','Died']"
      ]
    },
    {
      "cell_type": "code",
      "execution_count": null,
      "id": "abcf567b-cfc7-40e9-8c7a-b1bc38466503",
      "metadata": {
        "id": "abcf567b-cfc7-40e9-8c7a-b1bc38466503"
      },
      "outputs": [],
      "source": [
        "# A list that provides the quantities of each label.\n",
        "# For this data set, it's the list o fdifferent kinds of case status\n",
        "\n",
        "values = [recovered, active, died]"
      ]
    },
    {
      "cell_type": "code",
      "execution_count": null,
      "id": "02fbcc86-e38d-428e-b6b6-fa2d6e4a8df2",
      "metadata": {
        "id": "02fbcc86-e38d-428e-b6b6-fa2d6e4a8df2"
      },
      "outputs": [],
      "source": [
        "# Draw the pie-chart using the \"lables\" and \"values\" created above\n",
        "\n",
        "fig = go.Figure(data = [go.Pie(labels = labels_go, \n",
        "                               values = values,\n",
        "                              )\n",
        "                       ],\n",
        "               )\n",
        "# Update the layout, format the width and height of the pie chart, pass it the general\n",
        "# title \n",
        "fig.update_layout(width = 800,\n",
        "                  height = 600,  \n",
        "                  title = General_title_goPie,\n",
        "                  font = dict(family = \"Courier New, monospace\",\n",
        "                              size = 15,\n",
        "                              color = \"Black\"\n",
        "                             )\n",
        "                 )\n",
        "\n",
        "fig.update_traces(hoverinfo = 'value', \n",
        "                  textinfo = 'percent', \n",
        "                  marker = dict(colors = colors),\n",
        "                 )\n",
        "\n",
        "fig.show()"
      ]
    },
    {
      "cell_type": "markdown",
      "id": "435610a9-1811-4602-a912-e7ad7fbefd7e",
      "metadata": {
        "id": "435610a9-1811-4602-a912-e7ad7fbefd7e"
      },
      "source": [
        "#### <font style = \"color:rgb(20, 53, 103)\" > **Example 2 - Interactive Pie-Chart using `ipwidgets` with Plotly** </font>\n",
        "\n",
        "The code below will allow you to build an interactive pie-chart, one that will allow to visualize each categorical feature, and apply different labels. In the example above the labels was `Case status`, which had three categories in it:\n",
        "* Recovered\n",
        "* Active\n",
        "* Died\n",
        "\n",
        "However, this dataset also contains categorical information about:\n",
        "\n",
        "* Alberta Health Services Zone\n",
        "* Gender\n",
        "* Age group\n",
        "* Case status\n",
        "* Case type\n",
        "\n",
        "**Note:**\n",
        "\n",
        "The `Date reported` field will not be considered a categorical value,even though it's dtype is `object`."
      ]
    },
    {
      "cell_type": "markdown",
      "id": "4c2e9533-8444-4120-a8c6-410b4093827d",
      "metadata": {
        "id": "4c2e9533-8444-4120-a8c6-410b4093827d"
      },
      "source": [
        "##### <font style = \"color:rgb(20, 53, 103)\" > **Total Recorded Cases** </font>\n",
        "\n",
        "This part chart will help you analyze the total recorded cases:"
      ]
    },
    {
      "cell_type": "code",
      "execution_count": null,
      "id": "15b0cf95-cfbe-4b51-9005-eefec6c3893c",
      "metadata": {
        "id": "15b0cf95-cfbe-4b51-9005-eefec6c3893c"
      },
      "outputs": [],
      "source": [
        "# Create a general chart title\n",
        "General_title_goPie = f\"{total_records:,} recorded cases as of {data_set_date}.\"\n",
        "\n",
        "General_title_goPie"
      ]
    },
    {
      "cell_type": "code",
      "execution_count": null,
      "id": "6014ff3b-289f-4a4e-8e61-1d11d5e4cfa0",
      "metadata": {
        "id": "6014ff3b-289f-4a4e-8e61-1d11d5e4cfa0"
      },
      "outputs": [],
      "source": [
        "# Identify the different labels of the pie-chart\n",
        "# For this data set, the labels are going to be the values located in the \"Case status\"\n",
        "# feature\n",
        "\n",
        "hover_label = ['Recovered','Active','Died']"
      ]
    },
    {
      "cell_type": "code",
      "execution_count": null,
      "id": "1fdcf7b2-0f77-44d4-9854-98802a7313fe",
      "metadata": {
        "id": "1fdcf7b2-0f77-44d4-9854-98802a7313fe"
      },
      "outputs": [],
      "source": [
        "# A list that provides the quantities of each label.\n",
        "# For this data set, it's the list o fdifferent kinds of case status\n",
        "\n",
        "hover_data = [recovered, active, died]"
      ]
    },
    {
      "cell_type": "code",
      "execution_count": null,
      "id": "abb12579-9b47-46de-ab5e-d1dd926acaa0",
      "metadata": {
        "id": "abb12579-9b47-46de-ab5e-d1dd926acaa0"
      },
      "outputs": [],
      "source": [
        "#Create a series of labels to scroll through the data\n",
        "\n",
        "labels_pie = ['Case status', 'Alberta Health Services Zone', 'Gender', 'Age group']"
      ]
    },
    {
      "cell_type": "code",
      "execution_count": null,
      "id": "4b2f1a37-3429-4db6-b379-493778fbc0bb",
      "metadata": {
        "id": "4b2f1a37-3429-4db6-b379-493778fbc0bb"
      },
      "outputs": [],
      "source": [
        "@widgets.interact\n",
        "def interactive_piechart(label = labels_pie):    \n",
        "    fig = px.pie(df,\n",
        "                 names = label,\n",
        "                 labels = None,\n",
        "                 values =  None,\n",
        "                 color = label,\n",
        "                 #hover_name = df[label],\n",
        "                 #hover_data = df[label],\n",
        "                 color_discrete_map = color_discrete_map,\n",
        "                 width = 800,\n",
        "                 height = 600,\n",
        "                 title = General_title_goPie,\n",
        "                 color_discrete_sequence = px.colors.qualitative.Dark24,\n",
        "                )\n",
        "    \n",
        "    fig.update_layout(plot_bgcolor = 'Gray')\n",
        "\n",
        "    fig.show()"
      ]
    },
    {
      "cell_type": "markdown",
      "id": "5080102a-e667-46a2-af1e-ebc56b56ab0d",
      "metadata": {
        "id": "5080102a-e667-46a2-af1e-ebc56b56ab0d"
      },
      "source": [
        "##### <font style = \"color:rgb(20, 53, 103)\" > **Active Cases** </font>\n",
        "\n",
        "This pie chart will help you analyze the active cases. In this visualization, we'll use radio buttons instead of drop-downs for interactions:"
      ]
    },
    {
      "cell_type": "code",
      "execution_count": null,
      "id": "f5190f1c-a4fd-401a-b9a5-512b9653a693",
      "metadata": {
        "id": "f5190f1c-a4fd-401a-b9a5-512b9653a693"
      },
      "outputs": [],
      "source": [
        "# Create a general chart title\n",
        "General_title_active_pie = f\"There are {active:,} active cases in Alberta as of {data_set_date}.\"\n",
        "\n",
        "General_title_active_pie"
      ]
    },
    {
      "cell_type": "code",
      "execution_count": null,
      "id": "6388a878-43cc-40e1-90b8-ec1e92533b78",
      "metadata": {
        "id": "6388a878-43cc-40e1-90b8-ec1e92533b78"
      },
      "outputs": [],
      "source": [
        "# this radio button holds options that allows\n",
        "# you to chose if the histgram is stacked (relative)\n",
        "# grouped, or overlayed.\n",
        "groupings_active_pie = widgets.RadioButtons(options = ['Alberta Health Services Zone', 'Gender', 'Age group']) # Declare the set of radio buttons and provide options"
      ]
    },
    {
      "cell_type": "code",
      "execution_count": null,
      "id": "a09e37d8-d3d3-411b-8a76-8ac6da98e8fd",
      "metadata": {
        "id": "a09e37d8-d3d3-411b-8a76-8ac6da98e8fd"
      },
      "outputs": [],
      "source": [
        "# This pie chart summarizes the data for just the active cases\n",
        "@widgets.interact\n",
        "def interactive_piechart(features = groupings_active_pie):    \n",
        "    fig = px.pie(df_active,\n",
        "                 names = features,\n",
        "                 labels = None,\n",
        "                 values = None,\n",
        "                 color = features,\n",
        "                 color_discrete_map = color_discrete_map,\n",
        "\n",
        "                 width = 800,\n",
        "                 height = 600,\n",
        "                 title = General_title_active_pie,\n",
        "                 color_discrete_sequence = px.colors.qualitative.Dark24\n",
        "                )\n",
        "\n",
        "    fig.show()"
      ]
    },
    {
      "cell_type": "markdown",
      "id": "9ab27ae2-ffaa-4bfd-b6b4-518f64cad629",
      "metadata": {
        "id": "9ab27ae2-ffaa-4bfd-b6b4-518f64cad629"
      },
      "source": [
        "##### <font style = \"color:rgb(20, 53, 103)\" > **Total Deaths** </font>\n",
        "\n",
        "This pie chart will help you analyze the recorded deaths in Alberta. In this visualization, we'll use radio buttons instead of drop-downs for interactions:"
      ]
    },
    {
      "cell_type": "code",
      "execution_count": null,
      "id": "7a804c88-a91b-446b-9258-6c4d92479c27",
      "metadata": {
        "id": "7a804c88-a91b-446b-9258-6c4d92479c27"
      },
      "outputs": [],
      "source": [
        "# Create a general chart title\n",
        "General_title_deaths_pie = f\"There have been {died:,} deaths in Alberta as of {data_set_date}.\"\n",
        "\n",
        "General_title_deaths_pie"
      ]
    },
    {
      "cell_type": "code",
      "execution_count": null,
      "id": "12f0c1a9-4b59-4b23-91ed-32d6f26922bc",
      "metadata": {
        "id": "12f0c1a9-4b59-4b23-91ed-32d6f26922bc"
      },
      "outputs": [],
      "source": [
        "# this radio button holds options that allows\n",
        "# you to chose if the histgram is stacked (relative)\n",
        "# grouped, or overlayed.\n",
        "groupings_deaths_pie = widgets.RadioButtons(options = ['Alberta Health Services Zone', 'Gender', 'Age group']) # Declare the set of radio buttons and provide options"
      ]
    },
    {
      "cell_type": "code",
      "execution_count": null,
      "id": "d5325562-d8ec-40ea-809c-0797f947b1da",
      "metadata": {
        "id": "d5325562-d8ec-40ea-809c-0797f947b1da"
      },
      "outputs": [],
      "source": [
        "# This pie chart summarizes the data for just the active cases\n",
        "@widgets.interact\n",
        "def interactive_piechart(features = groupings_deaths_pie):    \n",
        "    fig = px.pie(df_fatal,\n",
        "                 names = features,\n",
        "                 labels = None,\n",
        "                 values = None,\n",
        "                 color = features,\n",
        "                 color_discrete_map = color_discrete_map,\n",
        "\n",
        "                 width = 800,\n",
        "                 height = 600,\n",
        "                 title = General_title_deaths_pie,\n",
        "                 color_discrete_sequence = px.colors.qualitative.Dark24\n",
        "                )\n",
        "\n",
        "    fig.show()"
      ]
    },
    {
      "cell_type": "markdown",
      "id": "89f39f4e-d955-456b-85e5-5b36bd9d2848",
      "metadata": {
        "id": "89f39f4e-d955-456b-85e5-5b36bd9d2848"
      },
      "source": [
        "## <font style = \"color:rgb(20, 53, 103)\" > **Advanced: Using the Plotly Graphing Library for EDA** </font>\n",
        "\n",
        "This section uses Plotly to explore the data and see what insights we can gain from it."
      ]
    },
    {
      "cell_type": "markdown",
      "id": "3e951a86-b8b2-4f9c-834d-5fcec1dddddc",
      "metadata": {
        "id": "3e951a86-b8b2-4f9c-834d-5fcec1dddddc"
      },
      "source": [
        "### <font style = \"color:rgb(20, 53, 103)\" > **Visualizing data selection - by Quarter** </font>\n",
        "\n",
        "The following code shows how you can create a selection, in order to compare yearly quarter over quarter COVID data:\n",
        "\n",
        "#### <font style = \"color:rgb(20, 53, 103)\" > **Example 1** </font>\n",
        "\n",
        "Basic construction.\n",
        "\n",
        "This example shows how you can create a data set based on a selection.\n",
        "\n",
        "Change the `value` variable and see the results in the dataset."
      ]
    },
    {
      "cell_type": "code",
      "execution_count": null,
      "id": "b68e2464-59a6-4cb3-b059-2f13bba84e29",
      "metadata": {
        "id": "b68e2464-59a6-4cb3-b059-2f13bba84e29"
      },
      "outputs": [],
      "source": [
        "# Stores the value of the quarter you want to compare\n",
        "# Any value from 1 to 4\n",
        "value = 3"
      ]
    },
    {
      "cell_type": "code",
      "execution_count": null,
      "id": "aa6037b9-2287-4000-8a62-f073f1958501",
      "metadata": {
        "id": "aa6037b9-2287-4000-8a62-f073f1958501"
      },
      "outputs": [],
      "source": [
        "# Create a selection of the dataset query\n",
        "by_quarter = df[df['Quarter'] == value]\n",
        "\n",
        "by_quarter"
      ]
    },
    {
      "cell_type": "markdown",
      "id": "afe5078d-4421-42b3-b3fa-82dc17e6d100",
      "metadata": {
        "id": "afe5078d-4421-42b3-b3fa-82dc17e6d100"
      },
      "source": [
        "#### <font style = \"color:rgb(20, 53, 103)\" > **Example 2** </font>\n",
        "\n",
        "Advanced construction.\n",
        "\n",
        "This examples shows how to put making a selection into context of data visualization:"
      ]
    },
    {
      "cell_type": "code",
      "execution_count": null,
      "id": "62c15810-ab1f-42f7-8d4f-3367c9a0b98e",
      "metadata": {
        "id": "62c15810-ab1f-42f7-8d4f-3367c9a0b98e"
      },
      "outputs": [],
      "source": [
        "# Stores the value of the quarter you want to compare\n",
        "# Any value from 1 to 4\n",
        "value = 2"
      ]
    },
    {
      "cell_type": "code",
      "execution_count": null,
      "id": "a2a1effb-d7aa-44fe-93b5-f4d49b4d077b",
      "metadata": {
        "id": "a2a1effb-d7aa-44fe-93b5-f4d49b4d077b"
      },
      "outputs": [],
      "source": [
        "# Create a selection of the dataset query\n",
        "by_quarter = df[df['Quarter'] == value]\n",
        "\n",
        "# Visualize the dataset\n",
        "fig = px.histogram(by_quarter, \n",
        "                   x = 'Date reported',\n",
        "                   color = 'Case status',\n",
        "                   color_discrete_map = color_discrete_map,\n",
        "                  )\n",
        "\n",
        "fig.show()"
      ]
    },
    {
      "cell_type": "markdown",
      "id": "2227db4b-d799-425c-9fc9-035804d18aa1",
      "metadata": {
        "id": "2227db4b-d799-425c-9fc9-035804d18aa1"
      },
      "source": [
        "#### <font style = \"color:rgb(20, 53, 103)\" > **Example 3** </font>\n",
        "\n",
        "This example puts it all together into an interactive visualization in order for you to inspect the data quarter by quarter:"
      ]
    },
    {
      "cell_type": "code",
      "execution_count": null,
      "id": "6f17287b-af4c-42ed-b1b4-ff240c019ae6",
      "metadata": {
        "id": "6f17287b-af4c-42ed-b1b4-ff240c019ae6"
      },
      "outputs": [],
      "source": [
        "# this radio button holds options that allows\n",
        "# you to chose if the histgram is stacked (relative)\n",
        "# grouped, or overlayed.\n",
        "groupings_for_quarter = widgets.RadioButtons(options = ['relative', 'group', 'overlay'],\n",
        "                                            ) # Declare the set of radio buttons and provide options"
      ]
    },
    {
      "cell_type": "code",
      "execution_count": null,
      "id": "00e67a48-35fd-43ff-acaa-febae1244829",
      "metadata": {
        "id": "00e67a48-35fd-43ff-acaa-febae1244829"
      },
      "outputs": [],
      "source": [
        "# This slider will allow you to select the quarter that you want to inspect\n",
        "quarter_labels = widgets.SelectionSlider(options = [1, 2, 3, 4],\n",
        "                                         value = 1,\n",
        "                                         description = 'Select Q',\n",
        "                                         disabled = False,\n",
        "                                         continuous_update = False,\n",
        "                                         orientation = 'horizontal',\n",
        "                                         readout = True\n",
        "                                        )"
      ]
    },
    {
      "cell_type": "code",
      "execution_count": null,
      "id": "5d7a6e31-c501-40cc-8abe-b91535f511d3",
      "metadata": {
        "id": "5d7a6e31-c501-40cc-8abe-b91535f511d3"
      },
      "outputs": [],
      "source": [
        "# This widget allows you to create a histogram, like the ones produces in the previous notebook.\n",
        "# This histogram will allow you to compare year over year COVID data, by quarter\n",
        "@widgets.interact\n",
        "def hist_inspect(grouping = groupings_allCases, label = labels, feature = features, quarter = quarter_labels):\n",
        "    \n",
        "    # Create a general chart title\n",
        "    General_title_deaths_Q = f\"Year over year assessments by quarter: Q{quarter}.\"\n",
        "    \n",
        "    # Create a selection of the dataset query\n",
        "    by_quarter = df[df['Quarter'] == quarter]\n",
        "    \n",
        "    # Visualize the dataset\n",
        "    fig = px.histogram(by_quarter, \n",
        "                       x = feature,\n",
        "                       color = label,\n",
        "                       facet_col = 'Year',\n",
        "                       barmode = grouping,\n",
        "                       category_orders = category_orders,\n",
        "                       color_discrete_map = color_discrete_map,\n",
        "                       title = General_title_deaths_Q,\n",
        "                       width = 1600, \n",
        "                       height = 800\n",
        "                      )\n",
        "\n",
        "    fig.show() "
      ]
    },
    {
      "cell_type": "markdown",
      "id": "a49061ba-a6a0-4ef4-9668-623bd9893284",
      "metadata": {
        "id": "a49061ba-a6a0-4ef4-9668-623bd9893284"
      },
      "source": [
        "### <font style = \"color:rgb(20, 53, 103)\" > **Visualizing data selection - by Month** </font>\n",
        "\n",
        "The following code shows how you can create a selection, in order to compare yearly Month by Month COVID data:\n",
        "\n",
        "#### <font style = \"color:rgb(20, 53, 103)\" > **Example 1** </font>"
      ]
    },
    {
      "cell_type": "code",
      "execution_count": null,
      "id": "4255a911-8cdb-4176-972d-f3eea9da3828",
      "metadata": {
        "id": "4255a911-8cdb-4176-972d-f3eea9da3828"
      },
      "outputs": [],
      "source": [
        "# Stores the value of the Month you want to compare\n",
        "# Any value from 1 to 12 (Jan to Dec)\n",
        "month = 3"
      ]
    },
    {
      "cell_type": "code",
      "execution_count": null,
      "id": "38c97cc8-e08e-4d98-9c41-f071f14d0151",
      "metadata": {
        "id": "38c97cc8-e08e-4d98-9c41-f071f14d0151"
      },
      "outputs": [],
      "source": [
        "# Create a selection of the dataset query\n",
        "by_month = df[df['Month'] == month]\n",
        "\n",
        "by_month"
      ]
    },
    {
      "cell_type": "markdown",
      "id": "890ae7cc-2022-4063-a79f-06a434a24a10",
      "metadata": {
        "id": "890ae7cc-2022-4063-a79f-06a434a24a10"
      },
      "source": [
        "#### <font style = \"color:rgb(20, 53, 103)\" > **Example 2** </font>\n",
        "\n",
        "Advanced construction.\n",
        "\n",
        "This examples shows how to put making a selection into context of data visualization:"
      ]
    },
    {
      "cell_type": "code",
      "execution_count": null,
      "id": "d2ce54a3-79d1-4f5f-805f-9ae00ba9a396",
      "metadata": {
        "id": "d2ce54a3-79d1-4f5f-805f-9ae00ba9a396"
      },
      "outputs": [],
      "source": [
        "# Stores the value of the Month you want to compare\n",
        "# Any value from 1 to 12 (Jan to Dec)\n",
        "month = 5"
      ]
    },
    {
      "cell_type": "code",
      "execution_count": null,
      "id": "6d99ded6-3354-4245-8927-9c6d844c55cd",
      "metadata": {
        "id": "6d99ded6-3354-4245-8927-9c6d844c55cd"
      },
      "outputs": [],
      "source": [
        "# Create a selection of the dataset query\n",
        "by_month = df[df['Month'] == month]\n",
        "\n",
        "# Visualize the dataset\n",
        "fig = px.histogram(by_month, \n",
        "                   x = 'Date reported',\n",
        "                   color = 'Case status',\n",
        "                   color_discrete_map = color_discrete_map,\n",
        "                  )\n",
        "\n",
        "fig.show()"
      ]
    },
    {
      "cell_type": "markdown",
      "id": "d897901f-0aef-4ce6-963f-ddda27f0ada8",
      "metadata": {
        "id": "d897901f-0aef-4ce6-963f-ddda27f0ada8"
      },
      "source": [
        "#### <font style = \"color:rgb(20, 53, 103)\" > **Example 3A - All Recorded Cases** </font>\n",
        "\n",
        "This example puts it all together into an interactive visualization in order for you to inspect the data month by month:"
      ]
    },
    {
      "cell_type": "code",
      "execution_count": null,
      "id": "bbc0db7f-646a-4c2e-a593-3be34a408fc0",
      "metadata": {
        "id": "bbc0db7f-646a-4c2e-a593-3be34a408fc0"
      },
      "outputs": [],
      "source": [
        "# This radio button holds options that allows\n",
        "# you to chose if the histgram is stacked (relative)\n",
        "# grouped, or overlayed.\n",
        "groupings_for_month = widgets.RadioButtons(options = ['relative', 'group', 'overlay'],\n",
        "                                            ) # Declare the set of radio buttons and provide options"
      ]
    },
    {
      "cell_type": "code",
      "execution_count": null,
      "id": "cdddd7c9-bd09-4ba9-a80c-0ae0c16938fa",
      "metadata": {
        "id": "cdddd7c9-bd09-4ba9-a80c-0ae0c16938fa"
      },
      "outputs": [],
      "source": [
        "# This dropdown holds the list\n",
        "# stored in the 'labels' object.\n",
        "# A widget is created because then \n",
        "# the values can change multiple graphs at once\n",
        "labels_dropdown = widgets.Dropdown(options = labels,\n",
        "                                value = None,\n",
        "                                description = 'label',\n",
        "                                disabled = False,\n",
        "                               )"
      ]
    },
    {
      "cell_type": "code",
      "execution_count": null,
      "id": "2617e8e2-6358-4870-a8fa-238c2c4ce9cc",
      "metadata": {
        "id": "2617e8e2-6358-4870-a8fa-238c2c4ce9cc"
      },
      "outputs": [],
      "source": [
        "# This dropdown holdsthe values of features\n",
        "# that can be explored.\n",
        "# A widget is created so one dropdown can \n",
        "# change multiple graphs at once\n",
        "features_dropdown = widgets.Dropdown(options = features,\n",
        "                                     value = 'Date reported',\n",
        "                                     description = 'features',\n",
        "                                     disabled = False,\n",
        "                                     )"
      ]
    },
    {
      "cell_type": "code",
      "execution_count": null,
      "id": "a65d8764-11f1-44dc-bce3-1ddbe6647e7b",
      "metadata": {
        "id": "a65d8764-11f1-44dc-bce3-1ddbe6647e7b"
      },
      "outputs": [],
      "source": [
        "# This slider will allow you to select the month that you want to inspect\n",
        "# Jan = 1, Dec = 12\n",
        "month_labels = widgets.Dropdown(options = [1, 2, 3, 4, 5, 6, 7, 8, 9, 10, 11, 12],\n",
        "                                value = 1,\n",
        "                                description = 'Month',\n",
        "                                disabled = False,\n",
        "                               )"
      ]
    },
    {
      "cell_type": "code",
      "execution_count": null,
      "id": "f34760cb-2903-4e07-a150-4898de89e8f3",
      "metadata": {
        "id": "f34760cb-2903-4e07-a150-4898de89e8f3"
      },
      "outputs": [],
      "source": [
        "# This widget allows you to create a histogram, like the ones produces in the previous notebook.\n",
        "# This histogram will allow you to compare year over year COVID data, by quarter\n",
        "@widgets.interact\n",
        "def hist_inspect(grouping = groupings_for_month, label = labels_dropdown, feature = features_dropdown, month = month_labels):\n",
        "    \n",
        "    # Create a general chart title\n",
        "    General_title_all_cases_month = f\"Year over year assessments by Month: Month Number:{month}.\"\n",
        "    \n",
        "    # Create a selection of the dataset query\n",
        "    by_month = df[df['Month'] == month]\n",
        "    \n",
        "    # Visualize the dataset\n",
        "    fig = px.histogram(by_month, \n",
        "                       x = feature,\n",
        "                       color = label,\n",
        "                       facet_col = 'Year',\n",
        "                       barmode = grouping,\n",
        "                       category_orders = category_orders,\n",
        "                       color_discrete_map = color_discrete_map,\n",
        "                       title = General_title_all_cases_month,\n",
        "                       width = 1600, \n",
        "                       height = 800\n",
        "                      )\n",
        "\n",
        "    fig.show() "
      ]
    },
    {
      "cell_type": "markdown",
      "id": "a44a465d-2e54-4193-8eee-e77d4464a7c4",
      "metadata": {
        "id": "a44a465d-2e54-4193-8eee-e77d4464a7c4"
      },
      "source": [
        "#### <font style = \"color:rgb(20, 53, 103)\" > **Example 3B - All Fatal Cases** </font>\n",
        "\n",
        "This example will show how widgets can be sync'd. I'm going to use the same widgets created above, the only differnce is the data set.\n",
        "\n",
        "If I change a setting in one graph, the setting in the other will automatically be updated as well.\n",
        "\n",
        "This way, you can compare the results of each graph."
      ]
    },
    {
      "cell_type": "code",
      "execution_count": null,
      "id": "93b8527c-b2d0-4057-81eb-b33478b042ec",
      "metadata": {
        "id": "93b8527c-b2d0-4057-81eb-b33478b042ec"
      },
      "outputs": [],
      "source": [
        "# This widget allows you to create a histogram, like the ones produces in the previous notebook.\n",
        "# This histogram will allow you to compare year over year COVID data, by quarter\n",
        "@widgets.interact\n",
        "def hist_inspect(grouping = groupings_for_month, label = labels_dropdown, feature = features_dropdown, month = month_labels):\n",
        "    \n",
        "    # Create a general chart title\n",
        "    General_title_all_cases_month = f\"Year over year assessments by Month: Month Number:{month}.\"\n",
        "    \n",
        "    # Create a selection of the dataset query\n",
        "    by_month = df_fatal[df_fatal['Month'] == month]\n",
        "    \n",
        "    # Visualize the dataset\n",
        "    fig = px.histogram(by_month, \n",
        "                       x = feature,\n",
        "                       color = label,\n",
        "                       facet_col = 'Year',\n",
        "                       barmode = grouping,\n",
        "                       category_orders = category_orders,\n",
        "                       color_discrete_map = color_discrete_map,\n",
        "                       title = General_title_all_cases_month,\n",
        "                       width = 1600, \n",
        "                       height = 800\n",
        "                      )\n",
        "\n",
        "    fig.show() "
      ]
    },
    {
      "cell_type": "markdown",
      "id": "25ebf345-9c2d-46c2-a3a7-6610a77da2ca",
      "metadata": {
        "id": "25ebf345-9c2d-46c2-a3a7-6610a77da2ca"
      },
      "source": [
        "#### <font style = \"color:rgb(20, 53, 103)\" > **Example 3C - Using a Date Picker (Part 1)** </font>\n",
        "\n",
        "This example will show how to use a date picker widgets. First I'll create a simple query, then show how to bundle it in a visualizaiton.\n",
        "\n",
        "I'll have both visualizations sync'd, like the example above."
      ]
    },
    {
      "cell_type": "markdown",
      "id": "9b9c9963-c3d7-48e8-bd5e-a9553db5cf26",
      "metadata": {
        "id": "9b9c9963-c3d7-48e8-bd5e-a9553db5cf26"
      },
      "source": [
        "To start with the date picker, let's first create a start date picker, an end date picker, and variables to store these results: "
      ]
    },
    {
      "cell_type": "code",
      "execution_count": null,
      "id": "0d404430-a46e-49bd-ade5-649d882d7464",
      "metadata": {
        "id": "0d404430-a46e-49bd-ade5-649d882d7464"
      },
      "outputs": [],
      "source": [
        "# Object to store the widget start date picker\n",
        "start_date = widgets.DatePicker(description='Start Date',\n",
        "                                disabled = False\n",
        "                               )\n",
        "\n",
        "start_date"
      ]
    },
    {
      "cell_type": "code",
      "execution_count": null,
      "id": "14c4467d-6650-43a9-9595-852a084033a2",
      "metadata": {
        "id": "14c4467d-6650-43a9-9595-852a084033a2"
      },
      "outputs": [],
      "source": [
        "# Object ot store the end date picker\n",
        "end_date = widgets.DatePicker(description='End Date',\n",
        "                              disabled = False\n",
        "                              )\n",
        "\n",
        "end_date"
      ]
    },
    {
      "cell_type": "code",
      "execution_count": null,
      "id": "dc0a9f8f-a653-43a9-9fba-e49ce657af7c",
      "metadata": {
        "id": "dc0a9f8f-a653-43a9-9fba-e49ce657af7c"
      },
      "outputs": [],
      "source": [
        "# Assign these values into some variables\n",
        "stday = start_date.value\n",
        "\n",
        "enday = end_date.value"
      ]
    },
    {
      "cell_type": "code",
      "execution_count": null,
      "id": "baf021b4-1bf9-44e1-9ee6-07df3e996802",
      "metadata": {
        "id": "baf021b4-1bf9-44e1-9ee6-07df3e996802"
      },
      "outputs": [],
      "source": [
        "# Print the results to show that the start date\n",
        "# and end date have been correctly chosen\n",
        "print(stday)\n",
        "\n",
        "print(enday)"
      ]
    },
    {
      "cell_type": "code",
      "execution_count": null,
      "id": "9b4b1a95-6a8a-4356-bd25-e538602a679b",
      "metadata": {
        "id": "9b4b1a95-6a8a-4356-bd25-e538602a679b"
      },
      "outputs": [],
      "source": [
        "# Create a data frame based on the date selection range.\n",
        "# In order for this to work, you must use an ISO value\n",
        "result_by_selection = df[df['ISO Date'].isin(pd.date_range(stday, enday))]\n",
        "\n",
        "result_by_selection"
      ]
    },
    {
      "cell_type": "code",
      "execution_count": null,
      "id": "1d03c047-2721-442e-ad67-a074a909ed9c",
      "metadata": {
        "id": "1d03c047-2721-442e-ad67-a074a909ed9c"
      },
      "outputs": [],
      "source": [
        "# Visualize the dataset\n",
        "fig = px.histogram(result_by_selection, \n",
        "                   x = 'Date reported',\n",
        "                   color = 'Case status',\n",
        "                   color_discrete_map = color_discrete_map,\n",
        "                  )\n",
        "\n",
        "fig.show()"
      ]
    },
    {
      "cell_type": "markdown",
      "id": "6c6f667a-c158-4645-88bb-dc11dc913ff1",
      "metadata": {
        "id": "6c6f667a-c158-4645-88bb-dc11dc913ff1"
      },
      "source": [
        "Putting it all together in an interactive widget to query the data frame."
      ]
    },
    {
      "cell_type": "code",
      "execution_count": null,
      "id": "0bf20ca1-3e3c-4bb2-b6a5-6ab2ddadb25a",
      "metadata": {
        "id": "0bf20ca1-3e3c-4bb2-b6a5-6ab2ddadb25a"
      },
      "outputs": [],
      "source": [
        "# This script will show you how to put a date pick app together\n",
        "@widgets.interact\n",
        "def hist_inspector(sday = start_date, eday = end_date):\n",
        "    \n",
        "    print(sday)\n",
        "    print(eday)\n",
        "    \n",
        "    start = sday\n",
        "    end = eday\n",
        "    \n",
        "    print(\"\\n\")\n",
        "    \n",
        "    if start is None:\n",
        "        start = first_date_reported\n",
        "        \n",
        "    if end is None:\n",
        "        end = current_date_reported\n",
        "        \n",
        "    print(start)\n",
        "    print(end)\n",
        "    \n",
        "    # Create a data frame based on the date selection range.\n",
        "    # In order for this to work, you must use an ISO value\n",
        "    result_by_selection = df[df['ISO Date'].isin(pd.date_range(start, end))]\n",
        "    \n",
        "    return result_by_selection"
      ]
    },
    {
      "cell_type": "markdown",
      "id": "ae6a88a4-ed75-4846-a115-6bde0963f908",
      "metadata": {
        "id": "ae6a88a4-ed75-4846-a115-6bde0963f908"
      },
      "source": [
        "#### <font style = \"color:rgb(20, 53, 103)\" > **Example 3C - Using a Date Picker (Part 2)** </font>\n",
        "\n",
        "This example will show how to use a date picker widgets to make date selections to visualize data between two dates."
      ]
    },
    {
      "cell_type": "code",
      "execution_count": null,
      "id": "802a9414-cb63-4928-891f-b9169107af2e",
      "metadata": {
        "id": "802a9414-cb63-4928-891f-b9169107af2e"
      },
      "outputs": [],
      "source": [
        "# Variable that stored the first day recorded in the \n",
        "# dataset\n",
        "first_date_reported"
      ]
    },
    {
      "cell_type": "code",
      "execution_count": null,
      "id": "e7a92e55-d9b6-4013-9e44-577dc1e827c7",
      "metadata": {
        "id": "e7a92e55-d9b6-4013-9e44-577dc1e827c7"
      },
      "outputs": [],
      "source": [
        "# Variable that stored the latest day recorded in the \n",
        "# dataset\n",
        "current_date_reported"
      ]
    },
    {
      "cell_type": "code",
      "execution_count": null,
      "id": "70d26b89-9a40-488d-8cda-eded044cc58f",
      "metadata": {
        "id": "70d26b89-9a40-488d-8cda-eded044cc58f"
      },
      "outputs": [],
      "source": [
        "# Object to store the widget start date picker\n",
        "start_date_pick = widgets.DatePicker(description = 'Start Date',\n",
        "                                     disabled = False\n",
        "                                     )"
      ]
    },
    {
      "cell_type": "code",
      "execution_count": null,
      "id": "8759af70-a475-4874-964f-d61ac2d792a9",
      "metadata": {
        "id": "8759af70-a475-4874-964f-d61ac2d792a9"
      },
      "outputs": [],
      "source": [
        "# Object ot store the end date picker\n",
        "end_date_pick = widgets.DatePicker(description = 'End Date',\n",
        "                                   disabled = False\n",
        "                                   )"
      ]
    },
    {
      "cell_type": "code",
      "execution_count": null,
      "id": "39016c40-e3b3-4fc7-a043-b364cf0718b1",
      "metadata": {
        "id": "39016c40-e3b3-4fc7-a043-b364cf0718b1"
      },
      "outputs": [],
      "source": [
        "# This radio button holds options that allows\n",
        "# you to chose if the histgram is stacked (relative)\n",
        "# grouped, or overlayed.\n",
        "groupings_for_month = widgets.RadioButtons(options = ['relative', 'group', 'overlay'],\n",
        "                                            ) # Declare the set of radio buttons and provide options"
      ]
    },
    {
      "cell_type": "code",
      "execution_count": null,
      "id": "46d1c87f-feac-4e77-8147-b022130c826d",
      "metadata": {
        "id": "46d1c87f-feac-4e77-8147-b022130c826d"
      },
      "outputs": [],
      "source": [
        "# This dropdown holds the list\n",
        "# stored in the 'labels' object.\n",
        "# A widget is created because then \n",
        "# the values can change multiple graphs at once\n",
        "labels_dropdown = widgets.Dropdown(options = labels,\n",
        "                                   value = None,\n",
        "                                   description = 'label',\n",
        "                                   disabled = False,\n",
        "                                   )"
      ]
    },
    {
      "cell_type": "code",
      "execution_count": null,
      "id": "50fb2883-b3ea-4abd-b9e7-d90f1c2000b6",
      "metadata": {
        "id": "50fb2883-b3ea-4abd-b9e7-d90f1c2000b6"
      },
      "outputs": [],
      "source": [
        "# This dropdown holdsthe values of features\n",
        "# that can be explored.\n",
        "# A widget is created so one dropdown can \n",
        "# change multiple graphs at once\n",
        "features_dropdown = widgets.Dropdown(options = features,\n",
        "                                     value = 'Date reported',\n",
        "                                     description = 'features',\n",
        "                                     disabled = False,\n",
        "                                     )"
      ]
    },
    {
      "cell_type": "code",
      "execution_count": null,
      "id": "8a5dd4f6-a26b-4b63-8055-6ed6115737ad",
      "metadata": {
        "id": "8a5dd4f6-a26b-4b63-8055-6ed6115737ad"
      },
      "outputs": [],
      "source": [
        "# This widget allows you to create a histogram, like the ones produces in the previous notebook.\n",
        "# This histogram will allow you to compare year over year COVID data, by quarter\n",
        "@widgets.interact\n",
        "def hist_inspect(sday = start_date_pick, eday = end_date_pick, grouping = groupings_for_month, label = labels_dropdown, feature = features_dropdown):\n",
        "    \n",
        "    # Variables used to store\n",
        "    # the start and end dates\n",
        "    start = sday\n",
        "    end = eday\n",
        "    \n",
        "    # Used for intial values\n",
        "    if start is None:\n",
        "        start = first_date_reported\n",
        "        \n",
        "    if end is None:\n",
        "        end = current_date_reported\n",
        "    \n",
        "    # Create a data frame based on the date selection range.\n",
        "    # In order for this to work, you must use an ISO value\n",
        "    result_by_selection = df[df['ISO Date'].isin(pd.date_range(start, end))]\n",
        "    \n",
        "    # Create a general chart title\n",
        "    General_title_all_cases = f\"All cases from {start} to {end} (YYYY-MM-DD).\"\n",
        "    \n",
        "    # Visualize the dataset\n",
        "    fig = px.histogram(result_by_selection, \n",
        "                       x = feature,\n",
        "                       color = label,\n",
        "                       #facet_col = 'Year',\n",
        "                       barmode = grouping,\n",
        "                       category_orders = category_orders,\n",
        "                       color_discrete_map = color_discrete_map,\n",
        "                       title = General_title_all_cases,\n",
        "                       width = 1600, \n",
        "                       height = 800\n",
        "                      )\n",
        "    \n",
        "    fig.update_layout(plot_bgcolor = 'Gray')\n",
        "\n",
        "    fig.show() "
      ]
    },
    {
      "cell_type": "markdown",
      "id": "e71c1500-344f-4bc7-991a-8f84dbe172b9",
      "metadata": {
        "id": "e71c1500-344f-4bc7-991a-8f84dbe172b9"
      },
      "source": [
        "The bellow code will sync both datasets, so information can be compared:"
      ]
    },
    {
      "cell_type": "code",
      "execution_count": null,
      "id": "34ea5745-8abb-4bd8-b5d4-70934e074d7f",
      "metadata": {
        "id": "34ea5745-8abb-4bd8-b5d4-70934e074d7f",
        "outputId": "f1c22ced-6970-4b4e-a0a6-0531112797a3"
      },
      "outputs": [
        {
          "ename": "NameError",
          "evalue": "name 'start_date_pick' is not defined",
          "output_type": "error",
          "traceback": [
            "\u001b[0;31m---------------------------------------------------------------------------\u001b[0m",
            "\u001b[0;31mNameError\u001b[0m                                 Traceback (most recent call last)",
            "\u001b[0;32m/tmp/ipykernel_3071/3187780635.py\u001b[0m in \u001b[0;36m<module>\u001b[0;34m\u001b[0m\n\u001b[1;32m      2\u001b[0m \u001b[0;31m# This histogram will allow you to compare year over year COVID data, by quarter\u001b[0m\u001b[0;34m\u001b[0m\u001b[0;34m\u001b[0m\u001b[0;34m\u001b[0m\u001b[0m\n\u001b[1;32m      3\u001b[0m \u001b[0;34m@\u001b[0m\u001b[0mwidgets\u001b[0m\u001b[0;34m.\u001b[0m\u001b[0minteract\u001b[0m\u001b[0;34m\u001b[0m\u001b[0;34m\u001b[0m\u001b[0m\n\u001b[0;32m----> 4\u001b[0;31m \u001b[0;32mdef\u001b[0m \u001b[0mhist_inspect\u001b[0m\u001b[0;34m(\u001b[0m\u001b[0msday\u001b[0m \u001b[0;34m=\u001b[0m \u001b[0mstart_date_pick\u001b[0m\u001b[0;34m,\u001b[0m \u001b[0meday\u001b[0m \u001b[0;34m=\u001b[0m \u001b[0mend_date_pick\u001b[0m\u001b[0;34m,\u001b[0m \u001b[0mgrouping\u001b[0m \u001b[0;34m=\u001b[0m \u001b[0mgroupings_for_month\u001b[0m\u001b[0;34m,\u001b[0m \u001b[0mlabel\u001b[0m \u001b[0;34m=\u001b[0m \u001b[0mlabels_dropdown\u001b[0m\u001b[0;34m,\u001b[0m \u001b[0mfeature\u001b[0m \u001b[0;34m=\u001b[0m \u001b[0mfeatures_dropdown\u001b[0m\u001b[0;34m)\u001b[0m\u001b[0;34m:\u001b[0m\u001b[0;34m\u001b[0m\u001b[0;34m\u001b[0m\u001b[0m\n\u001b[0m\u001b[1;32m      5\u001b[0m \u001b[0;34m\u001b[0m\u001b[0m\n\u001b[1;32m      6\u001b[0m     \u001b[0;31m# Variables used to store\u001b[0m\u001b[0;34m\u001b[0m\u001b[0;34m\u001b[0m\u001b[0;34m\u001b[0m\u001b[0m\n",
            "\u001b[0;31mNameError\u001b[0m: name 'start_date_pick' is not defined"
          ]
        }
      ],
      "source": [
        "# This widget allows you to create a histogram, like the ones produces in the previous notebook.\n",
        "# This histogram will allow you to compare year over year COVID data, by quarter\n",
        "@widgets.interact\n",
        "def hist_inspect(sday = start_date_pick, eday = end_date_pick, grouping = groupings_for_month, label = labels_dropdown, feature = features_dropdown):\n",
        "    \n",
        "    # Variables used to store\n",
        "    # the start and end dates\n",
        "    start = sday\n",
        "    end = eday\n",
        "    \n",
        "    # Used for intial values\n",
        "    if start is None:\n",
        "        start = first_date_reported\n",
        "        \n",
        "    if end is None:\n",
        "        end = current_date_reported\n",
        "    \n",
        "    # Create a data frame based on the date selection range.\n",
        "    # In order for this to work, you must use an ISO value\n",
        "    result_by_selection = df_fatal[df_fatal['ISO Date'].isin(pd.date_range(start, end))]\n",
        "    \n",
        "    # Create a general chart title\n",
        "    General_title_all_cases = f\"Total deaths from {start} to {end} (YYYY-MM-DD).\"\n",
        "    \n",
        "    # Visualize the dataset\n",
        "    fig = px.histogram(result_by_selection, \n",
        "                       x = feature,\n",
        "                       color = label,\n",
        "                       #facet_col = 'Year',\n",
        "                       barmode = grouping,\n",
        "                       category_orders = category_orders,\n",
        "                       color_discrete_map = color_discrete_map,\n",
        "                       title = General_title_all_cases,\n",
        "                       width = 1600, \n",
        "                       height = 800\n",
        "                      )\n",
        "    \n",
        "    fig.update_layout(plot_bgcolor = 'Gray')\n",
        "\n",
        "    fig.show() "
      ]
    },
    {
      "cell_type": "markdown",
      "id": "1b292caf-90dd-413d-9fd3-ea583829a54d",
      "metadata": {
        "id": "1b292caf-90dd-413d-9fd3-ea583829a54d"
      },
      "source": [
        "## <font style = \"color:rgb(20, 53, 103)\" > **Conclusion** </font>\n",
        "\n",
        "I hope this notebook offers some suggestions and help on how to use plotly and ipywidgets."
      ]
    },
    {
      "cell_type": "code",
      "execution_count": null,
      "id": "2a5da8ae-e76c-46b6-bcca-e81ecb1897f6",
      "metadata": {
        "id": "2a5da8ae-e76c-46b6-bcca-e81ecb1897f6"
      },
      "outputs": [],
      "source": []
    },
    {
      "cell_type": "code",
      "execution_count": null,
      "id": "f1b1ace6-0a28-4a36-a0a3-f6f7f946c111",
      "metadata": {
        "id": "f1b1ace6-0a28-4a36-a0a3-f6f7f946c111"
      },
      "outputs": [],
      "source": []
    },
    {
      "cell_type": "code",
      "execution_count": null,
      "id": "720c0ffd-1a61-41cf-b655-674a07eb5290",
      "metadata": {
        "id": "720c0ffd-1a61-41cf-b655-674a07eb5290"
      },
      "outputs": [],
      "source": []
    },
    {
      "cell_type": "code",
      "execution_count": null,
      "id": "46d73063-37f3-430e-b54c-54f35bdafbbe",
      "metadata": {
        "id": "46d73063-37f3-430e-b54c-54f35bdafbbe"
      },
      "outputs": [],
      "source": []
    }
  ],
  "metadata": {
    "kernelspec": {
      "display_name": "Python 3 (ipykernel)",
      "language": "python",
      "name": "python3"
    },
    "language_info": {
      "codemirror_mode": {
        "name": "ipython",
        "version": 3
      },
      "file_extension": ".py",
      "mimetype": "text/x-python",
      "name": "python",
      "nbconvert_exporter": "python",
      "pygments_lexer": "ipython3",
      "version": "3.7.3"
    },
    "colab": {
      "provenance": [],
      "include_colab_link": true
    }
  },
  "nbformat": 4,
  "nbformat_minor": 5
}